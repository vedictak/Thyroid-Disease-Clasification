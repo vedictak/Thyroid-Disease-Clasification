{
  "nbformat": 4,
  "nbformat_minor": 0,
  "metadata": {
    "colab": {
      "name": "Thyroid_disease_classification_Forza.ipynb",
      "provenance": [],
      "collapsed_sections": [],
      "include_colab_link": true
    },
    "kernelspec": {
      "name": "python3",
      "display_name": "Python 3"
    },
    "language_info": {
      "name": "python"
    }
  },
  "cells": [
    {
      "cell_type": "markdown",
      "metadata": {
        "id": "view-in-github",
        "colab_type": "text"
      },
      "source": [
        "<a href=\"https://colab.research.google.com/github/vedictak/Thyroid-Disease-Clasification/blob/main/Thyroid_disease_classification_Forza.ipynb\" target=\"_parent\"><img src=\"https://colab.research.google.com/assets/colab-badge.svg\" alt=\"Open In Colab\"/></a>"
      ]
    },
    {
      "cell_type": "markdown",
      "metadata": {
        "id": "gsqC_gTs439C"
      },
      "source": [
        "#### Load dataset"
      ]
    },
    {
      "cell_type": "code",
      "metadata": {
        "id": "Mwk5v1TnRMUI"
      },
      "source": [
        "import pandas as pd\n",
        "import matplotlib.pyplot as plt\n",
        "import seaborn as sns\n",
        "import numpy as np"
      ],
      "execution_count": null,
      "outputs": []
    },
    {
      "cell_type": "code",
      "metadata": {
        "id": "BGEvSCG8tTxP"
      },
      "source": [
        "# list of column names\n",
        "columns = [\"Age\", \"Sex\", \"On Thyroxine\", \"Query on Thyroxine\", \n",
        "           \"On Antithyroid Medication\", \"Sick\", \"Pregnant\", \n",
        "           \"Thyroid Surgery\", \"I131 Treatment\", \"Query Hypothyroid\", \n",
        "           \"Query Hyperthyroid\", \"Lithium\", \"Goitre\", \"Tumor\", \n",
        "           \"Hypopituitary\", \"Psych\", \"TSH Measured\", \"TSH\", \"T3 Measured\", \n",
        "           \"T3\", \"TT4 Measured\", \"TT4\", \"T4U Measured\", \"T4U\", \n",
        "           \"FTI Measured\", \"FTI\", \"TBG Measured\", \"TBG\", \"Referral Source\", \"Category\"]"
      ],
      "execution_count": null,
      "outputs": []
    },
    {
      "cell_type": "code",
      "metadata": {
        "id": "0LDKIzCQSNLo"
      },
      "source": [
        "# reading dataset\n",
        "data=pd.read_csv('/content/data.csv',na_values='?',header=None, names=columns)"
      ],
      "execution_count": null,
      "outputs": []
    },
    {
      "cell_type": "code",
      "metadata": {
        "id": "_jCuHxO_4HZL"
      },
      "source": [
        "# extract category names from target column values \n",
        "data.iloc[:,-1] = data.iloc[:,-1].str.extract('([a-zA-Z0-9\\s]*)')[0].str.lower()"
      ],
      "execution_count": null,
      "outputs": []
    },
    {
      "cell_type": "code",
      "metadata": {
        "id": "Z1XM3AQCEj8a"
      },
      "source": [
        "# remove duplicate entries\n",
        "data=data.drop_duplicates()"
      ],
      "execution_count": null,
      "outputs": []
    },
    {
      "cell_type": "code",
      "metadata": {
        "id": "r90d658vTbMZ"
      },
      "source": [
        "# shuffling dataset\n",
        "data = data.sample(frac = 1)"
      ],
      "execution_count": null,
      "outputs": []
    },
    {
      "cell_type": "code",
      "metadata": {
        "id": "JwEz4HOfwuOo"
      },
      "source": [
        "# splitting features and target columns\n",
        "X = data.iloc[:,:-1] \n",
        "y = data.iloc[:,-1]"
      ],
      "execution_count": null,
      "outputs": []
    },
    {
      "cell_type": "code",
      "metadata": {
        "id": "-xZT0ndkxCkM"
      },
      "source": [
        "# generalise categories\n",
        "y.replace(to_replace=['compensated hypothyroid','primary hypothyroid','secondary hypothyroid'], value='hypothyroid', inplace=True)\n",
        "y.replace(to_replace=['goitre','hyperthyroid','t3 toxic'], value='hyperthyroid', inplace=True)"
      ],
      "execution_count": null,
      "outputs": []
    },
    {
      "cell_type": "code",
      "metadata": {
        "colab": {
          "base_uri": "https://localhost:8080/",
          "height": 478
        },
        "id": "TbXAbe_6hFIk",
        "outputId": "81894d58-3a2e-45dc-8037-8b4c7ac9397f"
      },
      "source": [
        "X"
      ],
      "execution_count": null,
      "outputs": [
        {
          "output_type": "execute_result",
          "data": {
            "text/html": [
              "<div>\n",
              "<style scoped>\n",
              "    .dataframe tbody tr th:only-of-type {\n",
              "        vertical-align: middle;\n",
              "    }\n",
              "\n",
              "    .dataframe tbody tr th {\n",
              "        vertical-align: top;\n",
              "    }\n",
              "\n",
              "    .dataframe thead th {\n",
              "        text-align: right;\n",
              "    }\n",
              "</style>\n",
              "<table border=\"1\" class=\"dataframe\">\n",
              "  <thead>\n",
              "    <tr style=\"text-align: right;\">\n",
              "      <th></th>\n",
              "      <th>Age</th>\n",
              "      <th>Sex</th>\n",
              "      <th>On Thyroxine</th>\n",
              "      <th>Query on Thyroxine</th>\n",
              "      <th>On Antithyroid Medication</th>\n",
              "      <th>Sick</th>\n",
              "      <th>Pregnant</th>\n",
              "      <th>Thyroid Surgery</th>\n",
              "      <th>I131 Treatment</th>\n",
              "      <th>Query Hypothyroid</th>\n",
              "      <th>Query Hyperthyroid</th>\n",
              "      <th>Lithium</th>\n",
              "      <th>Goitre</th>\n",
              "      <th>Tumor</th>\n",
              "      <th>Hypopituitary</th>\n",
              "      <th>Psych</th>\n",
              "      <th>TSH Measured</th>\n",
              "      <th>TSH</th>\n",
              "      <th>T3 Measured</th>\n",
              "      <th>T3</th>\n",
              "      <th>TT4 Measured</th>\n",
              "      <th>TT4</th>\n",
              "      <th>T4U Measured</th>\n",
              "      <th>T4U</th>\n",
              "      <th>FTI Measured</th>\n",
              "      <th>FTI</th>\n",
              "      <th>TBG Measured</th>\n",
              "      <th>TBG</th>\n",
              "      <th>Referral Source</th>\n",
              "    </tr>\n",
              "  </thead>\n",
              "  <tbody>\n",
              "    <tr>\n",
              "      <th>1227</th>\n",
              "      <td>31.0</td>\n",
              "      <td>NaN</td>\n",
              "      <td>f</td>\n",
              "      <td>f</td>\n",
              "      <td>f</td>\n",
              "      <td>f</td>\n",
              "      <td>f</td>\n",
              "      <td>f</td>\n",
              "      <td>f</td>\n",
              "      <td>f</td>\n",
              "      <td>f</td>\n",
              "      <td>f</td>\n",
              "      <td>f</td>\n",
              "      <td>f</td>\n",
              "      <td>f</td>\n",
              "      <td>f</td>\n",
              "      <td>t</td>\n",
              "      <td>1.900</td>\n",
              "      <td>t</td>\n",
              "      <td>2.7</td>\n",
              "      <td>t</td>\n",
              "      <td>99.0</td>\n",
              "      <td>t</td>\n",
              "      <td>1.00</td>\n",
              "      <td>t</td>\n",
              "      <td>99.0</td>\n",
              "      <td>f</td>\n",
              "      <td>NaN</td>\n",
              "      <td>STMW</td>\n",
              "    </tr>\n",
              "    <tr>\n",
              "      <th>2771</th>\n",
              "      <td>71.0</td>\n",
              "      <td>F</td>\n",
              "      <td>f</td>\n",
              "      <td>f</td>\n",
              "      <td>f</td>\n",
              "      <td>f</td>\n",
              "      <td>f</td>\n",
              "      <td>f</td>\n",
              "      <td>f</td>\n",
              "      <td>f</td>\n",
              "      <td>f</td>\n",
              "      <td>f</td>\n",
              "      <td>f</td>\n",
              "      <td>f</td>\n",
              "      <td>f</td>\n",
              "      <td>f</td>\n",
              "      <td>t</td>\n",
              "      <td>1.500</td>\n",
              "      <td>t</td>\n",
              "      <td>2.0</td>\n",
              "      <td>t</td>\n",
              "      <td>96.0</td>\n",
              "      <td>t</td>\n",
              "      <td>1.05</td>\n",
              "      <td>t</td>\n",
              "      <td>92.0</td>\n",
              "      <td>f</td>\n",
              "      <td>NaN</td>\n",
              "      <td>SVI</td>\n",
              "    </tr>\n",
              "    <tr>\n",
              "      <th>2328</th>\n",
              "      <td>74.0</td>\n",
              "      <td>F</td>\n",
              "      <td>f</td>\n",
              "      <td>f</td>\n",
              "      <td>f</td>\n",
              "      <td>f</td>\n",
              "      <td>f</td>\n",
              "      <td>f</td>\n",
              "      <td>f</td>\n",
              "      <td>f</td>\n",
              "      <td>f</td>\n",
              "      <td>f</td>\n",
              "      <td>f</td>\n",
              "      <td>f</td>\n",
              "      <td>f</td>\n",
              "      <td>f</td>\n",
              "      <td>t</td>\n",
              "      <td>1.300</td>\n",
              "      <td>t</td>\n",
              "      <td>1.9</td>\n",
              "      <td>t</td>\n",
              "      <td>99.0</td>\n",
              "      <td>t</td>\n",
              "      <td>1.12</td>\n",
              "      <td>t</td>\n",
              "      <td>88.0</td>\n",
              "      <td>f</td>\n",
              "      <td>NaN</td>\n",
              "      <td>other</td>\n",
              "    </tr>\n",
              "    <tr>\n",
              "      <th>3840</th>\n",
              "      <td>72.0</td>\n",
              "      <td>F</td>\n",
              "      <td>f</td>\n",
              "      <td>f</td>\n",
              "      <td>f</td>\n",
              "      <td>f</td>\n",
              "      <td>f</td>\n",
              "      <td>f</td>\n",
              "      <td>f</td>\n",
              "      <td>t</td>\n",
              "      <td>f</td>\n",
              "      <td>f</td>\n",
              "      <td>f</td>\n",
              "      <td>f</td>\n",
              "      <td>f</td>\n",
              "      <td>f</td>\n",
              "      <td>t</td>\n",
              "      <td>2.300</td>\n",
              "      <td>t</td>\n",
              "      <td>0.8</td>\n",
              "      <td>t</td>\n",
              "      <td>90.0</td>\n",
              "      <td>t</td>\n",
              "      <td>0.80</td>\n",
              "      <td>t</td>\n",
              "      <td>112.0</td>\n",
              "      <td>f</td>\n",
              "      <td>NaN</td>\n",
              "      <td>SVI</td>\n",
              "    </tr>\n",
              "    <tr>\n",
              "      <th>1715</th>\n",
              "      <td>15.0</td>\n",
              "      <td>F</td>\n",
              "      <td>f</td>\n",
              "      <td>f</td>\n",
              "      <td>f</td>\n",
              "      <td>f</td>\n",
              "      <td>f</td>\n",
              "      <td>f</td>\n",
              "      <td>f</td>\n",
              "      <td>f</td>\n",
              "      <td>f</td>\n",
              "      <td>f</td>\n",
              "      <td>f</td>\n",
              "      <td>f</td>\n",
              "      <td>f</td>\n",
              "      <td>f</td>\n",
              "      <td>t</td>\n",
              "      <td>2.600</td>\n",
              "      <td>t</td>\n",
              "      <td>2.4</td>\n",
              "      <td>t</td>\n",
              "      <td>100.0</td>\n",
              "      <td>f</td>\n",
              "      <td>NaN</td>\n",
              "      <td>f</td>\n",
              "      <td>NaN</td>\n",
              "      <td>f</td>\n",
              "      <td>NaN</td>\n",
              "      <td>other</td>\n",
              "    </tr>\n",
              "    <tr>\n",
              "      <th>...</th>\n",
              "      <td>...</td>\n",
              "      <td>...</td>\n",
              "      <td>...</td>\n",
              "      <td>...</td>\n",
              "      <td>...</td>\n",
              "      <td>...</td>\n",
              "      <td>...</td>\n",
              "      <td>...</td>\n",
              "      <td>...</td>\n",
              "      <td>...</td>\n",
              "      <td>...</td>\n",
              "      <td>...</td>\n",
              "      <td>...</td>\n",
              "      <td>...</td>\n",
              "      <td>...</td>\n",
              "      <td>...</td>\n",
              "      <td>...</td>\n",
              "      <td>...</td>\n",
              "      <td>...</td>\n",
              "      <td>...</td>\n",
              "      <td>...</td>\n",
              "      <td>...</td>\n",
              "      <td>...</td>\n",
              "      <td>...</td>\n",
              "      <td>...</td>\n",
              "      <td>...</td>\n",
              "      <td>...</td>\n",
              "      <td>...</td>\n",
              "      <td>...</td>\n",
              "    </tr>\n",
              "    <tr>\n",
              "      <th>3584</th>\n",
              "      <td>59.0</td>\n",
              "      <td>F</td>\n",
              "      <td>f</td>\n",
              "      <td>f</td>\n",
              "      <td>f</td>\n",
              "      <td>t</td>\n",
              "      <td>f</td>\n",
              "      <td>f</td>\n",
              "      <td>f</td>\n",
              "      <td>f</td>\n",
              "      <td>f</td>\n",
              "      <td>f</td>\n",
              "      <td>f</td>\n",
              "      <td>f</td>\n",
              "      <td>f</td>\n",
              "      <td>f</td>\n",
              "      <td>t</td>\n",
              "      <td>7.100</td>\n",
              "      <td>t</td>\n",
              "      <td>1.9</td>\n",
              "      <td>t</td>\n",
              "      <td>98.0</td>\n",
              "      <td>t</td>\n",
              "      <td>1.11</td>\n",
              "      <td>t</td>\n",
              "      <td>88.0</td>\n",
              "      <td>f</td>\n",
              "      <td>NaN</td>\n",
              "      <td>SVHD</td>\n",
              "    </tr>\n",
              "    <tr>\n",
              "      <th>2390</th>\n",
              "      <td>34.0</td>\n",
              "      <td>F</td>\n",
              "      <td>f</td>\n",
              "      <td>f</td>\n",
              "      <td>f</td>\n",
              "      <td>f</td>\n",
              "      <td>f</td>\n",
              "      <td>f</td>\n",
              "      <td>f</td>\n",
              "      <td>f</td>\n",
              "      <td>t</td>\n",
              "      <td>f</td>\n",
              "      <td>f</td>\n",
              "      <td>f</td>\n",
              "      <td>f</td>\n",
              "      <td>f</td>\n",
              "      <td>t</td>\n",
              "      <td>4.100</td>\n",
              "      <td>t</td>\n",
              "      <td>4.0</td>\n",
              "      <td>t</td>\n",
              "      <td>159.0</td>\n",
              "      <td>t</td>\n",
              "      <td>1.62</td>\n",
              "      <td>t</td>\n",
              "      <td>98.0</td>\n",
              "      <td>f</td>\n",
              "      <td>NaN</td>\n",
              "      <td>STMW</td>\n",
              "    </tr>\n",
              "    <tr>\n",
              "      <th>90</th>\n",
              "      <td>63.0</td>\n",
              "      <td>F</td>\n",
              "      <td>t</td>\n",
              "      <td>f</td>\n",
              "      <td>f</td>\n",
              "      <td>f</td>\n",
              "      <td>f</td>\n",
              "      <td>f</td>\n",
              "      <td>f</td>\n",
              "      <td>f</td>\n",
              "      <td>f</td>\n",
              "      <td>f</td>\n",
              "      <td>f</td>\n",
              "      <td>f</td>\n",
              "      <td>f</td>\n",
              "      <td>f</td>\n",
              "      <td>t</td>\n",
              "      <td>0.025</td>\n",
              "      <td>t</td>\n",
              "      <td>1.6</td>\n",
              "      <td>t</td>\n",
              "      <td>124.0</td>\n",
              "      <td>t</td>\n",
              "      <td>0.89</td>\n",
              "      <td>t</td>\n",
              "      <td>139.0</td>\n",
              "      <td>f</td>\n",
              "      <td>NaN</td>\n",
              "      <td>other</td>\n",
              "    </tr>\n",
              "    <tr>\n",
              "      <th>1246</th>\n",
              "      <td>62.0</td>\n",
              "      <td>F</td>\n",
              "      <td>t</td>\n",
              "      <td>f</td>\n",
              "      <td>f</td>\n",
              "      <td>f</td>\n",
              "      <td>f</td>\n",
              "      <td>f</td>\n",
              "      <td>f</td>\n",
              "      <td>f</td>\n",
              "      <td>f</td>\n",
              "      <td>f</td>\n",
              "      <td>f</td>\n",
              "      <td>f</td>\n",
              "      <td>f</td>\n",
              "      <td>f</td>\n",
              "      <td>t</td>\n",
              "      <td>2.500</td>\n",
              "      <td>f</td>\n",
              "      <td>NaN</td>\n",
              "      <td>t</td>\n",
              "      <td>126.0</td>\n",
              "      <td>t</td>\n",
              "      <td>1.24</td>\n",
              "      <td>t</td>\n",
              "      <td>101.0</td>\n",
              "      <td>f</td>\n",
              "      <td>NaN</td>\n",
              "      <td>other</td>\n",
              "    </tr>\n",
              "    <tr>\n",
              "      <th>2316</th>\n",
              "      <td>51.0</td>\n",
              "      <td>F</td>\n",
              "      <td>f</td>\n",
              "      <td>f</td>\n",
              "      <td>f</td>\n",
              "      <td>f</td>\n",
              "      <td>f</td>\n",
              "      <td>f</td>\n",
              "      <td>f</td>\n",
              "      <td>f</td>\n",
              "      <td>f</td>\n",
              "      <td>f</td>\n",
              "      <td>f</td>\n",
              "      <td>f</td>\n",
              "      <td>f</td>\n",
              "      <td>f</td>\n",
              "      <td>t</td>\n",
              "      <td>24.000</td>\n",
              "      <td>t</td>\n",
              "      <td>0.4</td>\n",
              "      <td>t</td>\n",
              "      <td>3.0</td>\n",
              "      <td>t</td>\n",
              "      <td>0.99</td>\n",
              "      <td>t</td>\n",
              "      <td>3.0</td>\n",
              "      <td>f</td>\n",
              "      <td>NaN</td>\n",
              "      <td>other</td>\n",
              "    </tr>\n",
              "  </tbody>\n",
              "</table>\n",
              "<p>3221 rows × 29 columns</p>\n",
              "</div>"
            ],
            "text/plain": [
              "       Age  Sex On Thyroxine  ... TBG Measured TBG Referral Source\n",
              "1227  31.0  NaN            f  ...            f NaN            STMW\n",
              "2771  71.0    F            f  ...            f NaN             SVI\n",
              "2328  74.0    F            f  ...            f NaN           other\n",
              "3840  72.0    F            f  ...            f NaN             SVI\n",
              "1715  15.0    F            f  ...            f NaN           other\n",
              "...    ...  ...          ...  ...          ...  ..             ...\n",
              "3584  59.0    F            f  ...            f NaN            SVHD\n",
              "2390  34.0    F            f  ...            f NaN            STMW\n",
              "90    63.0    F            t  ...            f NaN           other\n",
              "1246  62.0    F            t  ...            f NaN           other\n",
              "2316  51.0    F            f  ...            f NaN           other\n",
              "\n",
              "[3221 rows x 29 columns]"
            ]
          },
          "metadata": {},
          "execution_count": 22
        }
      ]
    },
    {
      "cell_type": "markdown",
      "metadata": {
        "id": "daQQrNCM5EKj"
      },
      "source": [
        "#### Exploratory Analysis of the Dataset \n"
      ]
    },
    {
      "cell_type": "code",
      "metadata": {
        "colab": {
          "base_uri": "https://localhost:8080/"
        },
        "id": "GBCVUWsCBSC2",
        "outputId": "ce2dee48-b71c-4157-c981-481b30d2607d"
      },
      "source": [
        "# print the names of the features\n",
        "print(\"Features: \", list(X.columns))\n",
        "\n",
        "# print the label types of target column\n",
        "print(\"Labels: \", set(y))"
      ],
      "execution_count": null,
      "outputs": [
        {
          "output_type": "stream",
          "name": "stdout",
          "text": [
            "Features:  ['Age', 'Sex', 'On Thyroxine', 'Query on Thyroxine', 'On Antithyroid Medication', 'Sick', 'Pregnant', 'Thyroid Surgery', 'I131 Treatment', 'Query Hypothyroid', 'Query Hyperthyroid', 'Lithium', 'Goitre', 'Tumor', 'Hypopituitary', 'Psych', 'TSH Measured', 'TSH', 'T3 Measured', 'T3', 'TT4 Measured', 'TT4', 'T4U Measured', 'T4U', 'FTI Measured', 'FTI', 'TBG Measured', 'TBG', 'Referral Source']\n",
            "Labels:  {'sick', 'hyperthyroid', 'negative', 'hypothyroid'}\n"
          ]
        }
      ]
    },
    {
      "cell_type": "code",
      "metadata": {
        "colab": {
          "base_uri": "https://localhost:8080/"
        },
        "id": "85V08SxpT2R2",
        "outputId": "0bc36280-426d-49c0-c3ae-e47ba42df0ab"
      },
      "source": [
        "print('Shape:',data.shape)\n",
        "#Dataset comprises of 3221 observations and 30 characteristics (29 independant and 1 dependant)"
      ],
      "execution_count": null,
      "outputs": [
        {
          "output_type": "stream",
          "name": "stdout",
          "text": [
            "Shape: (3221, 30)\n"
          ]
        }
      ]
    },
    {
      "cell_type": "code",
      "metadata": {
        "id": "5Ai5I5rBUe9g",
        "colab": {
          "base_uri": "https://localhost:8080/"
        },
        "outputId": "07a20620-c1d9-4d60-f448-5ca7d74a6080"
      },
      "source": [
        "data.info()\n",
        "# float -> numerical columns, object -> nominal/categorical columns \n",
        "# Data has 7 columns of float dtype, 23 of object(string) dtype\n",
        "# 27 column has too many missing values"
      ],
      "execution_count": null,
      "outputs": [
        {
          "output_type": "stream",
          "name": "stdout",
          "text": [
            "<class 'pandas.core.frame.DataFrame'>\n",
            "Int64Index: 3221 entries, 1227 to 2316\n",
            "Data columns (total 30 columns):\n",
            " #   Column                     Non-Null Count  Dtype  \n",
            "---  ------                     --------------  -----  \n",
            " 0   Age                        3220 non-null   float64\n",
            " 1   Sex                        3094 non-null   object \n",
            " 2   On Thyroxine               3221 non-null   object \n",
            " 3   Query on Thyroxine         3221 non-null   object \n",
            " 4   On Antithyroid Medication  3221 non-null   object \n",
            " 5   Sick                       3221 non-null   object \n",
            " 6   Pregnant                   3221 non-null   object \n",
            " 7   Thyroid Surgery            3221 non-null   object \n",
            " 8   I131 Treatment             3221 non-null   object \n",
            " 9   Query Hypothyroid          3221 non-null   object \n",
            " 10  Query Hyperthyroid         3221 non-null   object \n",
            " 11  Lithium                    3221 non-null   object \n",
            " 12  Goitre                     3221 non-null   object \n",
            " 13  Tumor                      3221 non-null   object \n",
            " 14  Hypopituitary              3221 non-null   object \n",
            " 15  Psych                      3221 non-null   object \n",
            " 16  TSH Measured               3221 non-null   object \n",
            " 17  TSH                        2974 non-null   float64\n",
            " 18  T3 Measured                3221 non-null   object \n",
            " 19  T3                         2632 non-null   float64\n",
            " 20  TT4 Measured               3221 non-null   object \n",
            " 21  TT4                        3079 non-null   float64\n",
            " 22  T4U Measured               3221 non-null   object \n",
            " 23  T4U                        2945 non-null   float64\n",
            " 24  FTI Measured               3221 non-null   object \n",
            " 25  FTI                        2947 non-null   float64\n",
            " 26  TBG Measured               3221 non-null   object \n",
            " 27  TBG                        0 non-null      float64\n",
            " 28  Referral Source            3221 non-null   object \n",
            " 29  Category                   3221 non-null   object \n",
            "dtypes: float64(7), object(23)\n",
            "memory usage: 780.1+ KB\n"
          ]
        }
      ]
    },
    {
      "cell_type": "code",
      "metadata": {
        "colab": {
          "base_uri": "https://localhost:8080/",
          "height": 300
        },
        "id": "ZPAuKqGGU5ch",
        "outputId": "3dac8d7e-62f3-4314-96cd-a9c31cdaafb3"
      },
      "source": [
        "data.describe()\n",
        "### There is a large difference between 75th %tile and max value of 'DC' which implies that the outliers have notably larger values"
      ],
      "execution_count": null,
      "outputs": [
        {
          "output_type": "execute_result",
          "data": {
            "text/html": [
              "<div>\n",
              "<style scoped>\n",
              "    .dataframe tbody tr th:only-of-type {\n",
              "        vertical-align: middle;\n",
              "    }\n",
              "\n",
              "    .dataframe tbody tr th {\n",
              "        vertical-align: top;\n",
              "    }\n",
              "\n",
              "    .dataframe thead th {\n",
              "        text-align: right;\n",
              "    }\n",
              "</style>\n",
              "<table border=\"1\" class=\"dataframe\">\n",
              "  <thead>\n",
              "    <tr style=\"text-align: right;\">\n",
              "      <th></th>\n",
              "      <th>Age</th>\n",
              "      <th>TSH</th>\n",
              "      <th>T3</th>\n",
              "      <th>TT4</th>\n",
              "      <th>T4U</th>\n",
              "      <th>FTI</th>\n",
              "      <th>TBG</th>\n",
              "    </tr>\n",
              "  </thead>\n",
              "  <tbody>\n",
              "    <tr>\n",
              "      <th>count</th>\n",
              "      <td>3220.000000</td>\n",
              "      <td>2974.000000</td>\n",
              "      <td>2632.000000</td>\n",
              "      <td>3079.000000</td>\n",
              "      <td>2945.000000</td>\n",
              "      <td>2947.000000</td>\n",
              "      <td>0.0</td>\n",
              "    </tr>\n",
              "    <tr>\n",
              "      <th>mean</th>\n",
              "      <td>52.532609</td>\n",
              "      <td>6.722840</td>\n",
              "      <td>1.963355</td>\n",
              "      <td>107.807665</td>\n",
              "      <td>0.989937</td>\n",
              "      <td>110.657550</td>\n",
              "      <td>NaN</td>\n",
              "    </tr>\n",
              "    <tr>\n",
              "      <th>std</th>\n",
              "      <td>20.381326</td>\n",
              "      <td>27.585818</td>\n",
              "      <td>0.928773</td>\n",
              "      <td>38.941172</td>\n",
              "      <td>0.194417</td>\n",
              "      <td>37.578197</td>\n",
              "      <td>NaN</td>\n",
              "    </tr>\n",
              "    <tr>\n",
              "      <th>min</th>\n",
              "      <td>1.000000</td>\n",
              "      <td>0.005000</td>\n",
              "      <td>0.050000</td>\n",
              "      <td>2.000000</td>\n",
              "      <td>0.310000</td>\n",
              "      <td>2.000000</td>\n",
              "      <td>NaN</td>\n",
              "    </tr>\n",
              "    <tr>\n",
              "      <th>25%</th>\n",
              "      <td>37.000000</td>\n",
              "      <td>0.450000</td>\n",
              "      <td>1.500000</td>\n",
              "      <td>86.000000</td>\n",
              "      <td>0.870000</td>\n",
              "      <td>92.000000</td>\n",
              "      <td>NaN</td>\n",
              "    </tr>\n",
              "    <tr>\n",
              "      <th>50%</th>\n",
              "      <td>55.000000</td>\n",
              "      <td>1.500000</td>\n",
              "      <td>1.900000</td>\n",
              "      <td>102.000000</td>\n",
              "      <td>0.970000</td>\n",
              "      <td>106.000000</td>\n",
              "      <td>NaN</td>\n",
              "    </tr>\n",
              "    <tr>\n",
              "      <th>75%</th>\n",
              "      <td>68.000000</td>\n",
              "      <td>3.300000</td>\n",
              "      <td>2.300000</td>\n",
              "      <td>125.000000</td>\n",
              "      <td>1.080000</td>\n",
              "      <td>125.000000</td>\n",
              "      <td>NaN</td>\n",
              "    </tr>\n",
              "    <tr>\n",
              "      <th>max</th>\n",
              "      <td>455.000000</td>\n",
              "      <td>478.000000</td>\n",
              "      <td>10.600000</td>\n",
              "      <td>430.000000</td>\n",
              "      <td>2.120000</td>\n",
              "      <td>395.000000</td>\n",
              "      <td>NaN</td>\n",
              "    </tr>\n",
              "  </tbody>\n",
              "</table>\n",
              "</div>"
            ],
            "text/plain": [
              "               Age          TSH           T3  ...          T4U          FTI  TBG\n",
              "count  3220.000000  2974.000000  2632.000000  ...  2945.000000  2947.000000  0.0\n",
              "mean     52.532609     6.722840     1.963355  ...     0.989937   110.657550  NaN\n",
              "std      20.381326    27.585818     0.928773  ...     0.194417    37.578197  NaN\n",
              "min       1.000000     0.005000     0.050000  ...     0.310000     2.000000  NaN\n",
              "25%      37.000000     0.450000     1.500000  ...     0.870000    92.000000  NaN\n",
              "50%      55.000000     1.500000     1.900000  ...     0.970000   106.000000  NaN\n",
              "75%      68.000000     3.300000     2.300000  ...     1.080000   125.000000  NaN\n",
              "max     455.000000   478.000000    10.600000  ...     2.120000   395.000000  NaN\n",
              "\n",
              "[8 rows x 7 columns]"
            ]
          },
          "metadata": {},
          "execution_count": 26
        }
      ]
    },
    {
      "cell_type": "markdown",
      "metadata": {
        "id": "YbCqKLQM5NNn"
      },
      "source": [
        "#####\tPerform univariate analysis by plotting various charts \n"
      ]
    },
    {
      "cell_type": "code",
      "metadata": {
        "colab": {
          "base_uri": "https://localhost:8080/",
          "height": 597
        },
        "id": "x9Ru1ARvVsQv",
        "outputId": "28f5ac96-33b6-4454-b1ef-801cd15048fa"
      },
      "source": [
        "# histograms\n",
        "data.hist(alpha=0.5,figsize=(8,8))\n",
        "plt.tight_layout(pad=0.5)\n",
        "plt.show()"
      ],
      "execution_count": null,
      "outputs": [
        {
          "output_type": "display_data",
          "data": {
            "image/png": "[encoded data removed]",
            "text/plain": [
              "<Figure size 576x576 with 9 Axes>"
            ]
          },
          "metadata": {
            "needs_background": "light"
          }
        }
      ]
    },
    {
      "cell_type": "code",
      "metadata": {
        "colab": {
          "base_uri": "https://localhost:8080/",
          "height": 381
        },
        "id": "eH3bnJT9WHCe",
        "outputId": "f8797c45-731f-47c6-9bfc-ab995d361ef6"
      },
      "source": [
        "# boxplots\n",
        "# box plots to view distribution of values across their range and identify which columns have outliers\n",
        "numeric_col = ['Age','TSH','T3','TT4','T4U','FTI']\n",
        "\n",
        "fig, axs = plt.subplots(ncols=6, nrows=1, figsize=(10, 5))\n",
        "axs = axs.flatten()\n",
        "i = 0\n",
        "for c in numeric_col:\n",
        "    sns.boxplot(y=c, data=data, ax=axs[i])\n",
        "    i += 1\n",
        "plt.tight_layout(pad=0.5, w_pad=0.5, h_pad=5.0)\n",
        "# all numeric columns have a lot of outliers"
      ],
      "execution_count": null,
      "outputs": [
        {
          "output_type": "display_data",
          "data": {
            "image/png": "[encoded data removed]",
            "text/plain": [
              "<Figure size 720x360 with 6 Axes>"
            ]
          },
          "metadata": {
            "needs_background": "light"
          }
        }
      ]
    },
    {
      "cell_type": "markdown",
      "metadata": {
        "id": "G7v4jsXr5WPE"
      },
      "source": [
        "##### Perform multivariate analysis \n"
      ]
    },
    {
      "cell_type": "code",
      "metadata": {
        "id": "kTuz7xdqXEy6",
        "colab": {
          "base_uri": "https://localhost:8080/",
          "height": 613
        },
        "outputId": "a71ae6f9-b063-41e8-cf71-934e827822dc"
      },
      "source": [
        "# correlation matrix \n",
        "plt.figure(figsize=(10,10))\n",
        "sns.heatmap(data=X.corr(),cmap='Blues',annot=True,linewidths=0.2)\n",
        "# TT4 and FTI columns are highly correlated"
      ],
      "execution_count": null,
      "outputs": [
        {
          "output_type": "execute_result",
          "data": {
            "text/plain": [
              "<matplotlib.axes._subplots.AxesSubplot at 0x7f2c07457250>"
            ]
          },
          "metadata": {},
          "execution_count": 29
        },
        {
          "output_type": "display_data",
          "data": {
            "image/png": "[encoded data removed]",
            "text/plain": [
              "<Figure size 720x720 with 2 Axes>"
            ]
          },
          "metadata": {
            "needs_background": "light"
          }
        }
      ]
    },
    {
      "cell_type": "markdown",
      "metadata": {
        "id": "bk4hTdOS5g_K"
      },
      "source": [
        "#### Missing Value Imputation and removing any undesirable feature from the dataset."
      ]
    },
    {
      "cell_type": "code",
      "metadata": {
        "id": "kGMz81rEYTq4"
      },
      "source": [
        "# {} column is unique to almost each row and does not contribute anything to the classification model\n",
        "# {} column has too many null values\n",
        "X = X.drop(['TBG','TBG Measured'],axis=1)"
      ],
      "execution_count": null,
      "outputs": []
    },
    {
      "cell_type": "code",
      "metadata": {
        "id": "YFwoUqBDX5ze"
      },
      "source": [
        "# Imputing missing values using most_frequent strategy\n",
        "from sklearn.impute import SimpleImputer\n",
        "imp = SimpleImputer(missing_values=np.NaN, strategy='most_frequent')\n",
        "X = pd.DataFrame(imp.fit_transform(X),columns=X.columns)"
      ],
      "execution_count": null,
      "outputs": []
    },
    {
      "cell_type": "markdown",
      "metadata": {
        "id": "pwFxuaF9l1AV"
      },
      "source": [
        "#### Encoding"
      ]
    },
    {
      "cell_type": "code",
      "metadata": {
        "id": "DOq3L-u8gK6V"
      },
      "source": [
        "# function to one hot encode given column in given dataset\n",
        "def ohe(data,i):\n",
        "  # store one hot encoded columns in temp\n",
        "  temp = pd.get_dummies(data[i],prefix=i)\n",
        "  # store index of given column in t\n",
        "  t = data.columns.get_loc(i)\n",
        "  # drop given column \n",
        "  data = data.drop(labels=i,axis=1)\n",
        "  # insert one hot encoded columns in index of the given column\n",
        "  for i in range(temp.shape[1]-1,-1,-1):\n",
        "    data.insert(t, temp.columns[i], temp.iloc[:,i],False)\n",
        "  return data\n",
        "\n",
        "# function to label encode given column in given dataset\n",
        "def le(data,i):\n",
        "  from sklearn.preprocessing import LabelEncoder \n",
        "  # standardize the string (remove apostrophes [if they exist] and lowercase all alphabets)\n",
        "  #data[i] = data[i].str.extract('\\'?([a-zA-Z\\s\\-\\[\\]\\/]*)\\'?')[0].str.lower()\n",
        "  # label encode given column\n",
        "  data[i] = pd.DataFrame(LabelEncoder().fit_transform(data[i]),columns=[i])\n",
        "  return data\n",
        "\n",
        "# lists to store all column names which need to get one hot encoded or label encoded\n",
        "# required for encoding of features sub-step of Accuracy Improvement Step \n",
        "#ohe_names=[] \n",
        "#le_names=[]\n",
        "\n",
        "# iterate through all the columns in data\n",
        "for i in X.columns:\n",
        "  # if column values are not numeric\n",
        "  if type(X[i][0]) not in (np.int64,np.float64):\n",
        "    # if unique values in column are more than 5 then label encode the column\n",
        "    if len(set(X[i]))>5: \n",
        "      X=le(X,i)\n",
        "      #le_names.append(i) # append all column names which got label encoded\n",
        "    # if unique values in column are less than equal to 5 one hot encode the column\n",
        "    else: \n",
        "      X=ohe(X,i)\n",
        "      #ohe_names.append(i) # append all column names which got one hot encoded\n",
        "\n",
        "#d2 = X.copy() # for later step accuracy improvement by removal of some features"
      ],
      "execution_count": null,
      "outputs": []
    },
    {
      "cell_type": "markdown",
      "metadata": {
        "id": "CCLwMigNXWma"
      },
      "source": [
        "####Remove unwanted features/feature selection \n"
      ]
    },
    {
      "cell_type": "code",
      "metadata": {
        "id": "202FT5GRXwRt"
      },
      "source": [
        "from sklearn.feature_selection import SelectKBest\n",
        "#apply SelectKBest class to extract top 15 best features using ANOVA f-score to evaluate\n",
        "X = pd.DataFrame(SelectKBest(k=15).fit_transform(X,y))"
      ],
      "execution_count": null,
      "outputs": []
    },
    {
      "cell_type": "markdown",
      "metadata": {
        "id": "Dt-qTJNrmBnT"
      },
      "source": [
        "#### Normalization"
      ]
    },
    {
      "cell_type": "code",
      "metadata": {
        "id": "XYeG_xBUkouu"
      },
      "source": [
        "# Normalising Data\n",
        "from sklearn.preprocessing import MinMaxScaler\n",
        "X = pd.DataFrame(MinMaxScaler().fit_transform(X),columns=X.columns)"
      ],
      "execution_count": null,
      "outputs": []
    },
    {
      "cell_type": "markdown",
      "metadata": {
        "id": "4kzBIbyC52gW"
      },
      "source": [
        "#### Check for the outliers in the columns and treat the outliers if present."
      ]
    },
    {
      "cell_type": "code",
      "metadata": {
        "id": "OXTtgd8icYJI"
      },
      "source": [
        "eps=1e-7\n",
        "# do log transformation of columns with outliers till there are no outliers left (should run max twice)\n",
        "while 1:\n",
        "  # checking outliers by using skewness from normal distribution\n",
        "  o_col=[]\n",
        "  skew = X.skew()\n",
        "  for c in X.columns:\n",
        "    if abs(skew[c])>1:\n",
        "      o_col.append(c)\n",
        "  # end the loop if there are no columns with outliers\n",
        "  if not o_col: break\n",
        "  # treating outliers by log transforming all columns with skewness\n",
        "  for c in o_col:\n",
        "      X[c] = np.maximum(np.full(X[c].shape, eps), np.minimum(np.full(X[c].shape, 1-eps), X[c]))\n",
        "      X[c] = np.log10(X[c])\n",
        "  break"
      ],
      "execution_count": null,
      "outputs": []
    },
    {
      "cell_type": "markdown",
      "metadata": {
        "id": "NoAT2_mx58Pm"
      },
      "source": [
        "#### Split the dataset into train and test. \n"
      ]
    },
    {
      "cell_type": "code",
      "metadata": {
        "id": "P4VAWj3HbIJi"
      },
      "source": [
        "from sklearn.model_selection import train_test_split\n",
        "X_train, X_test, y_train, y_test = train_test_split(X,y)"
      ],
      "execution_count": null,
      "outputs": []
    },
    {
      "cell_type": "markdown",
      "metadata": {
        "id": "mQdatWmVhfbs"
      },
      "source": [
        "#### Construct models "
      ]
    },
    {
      "cell_type": "code",
      "metadata": {
        "id": "1x53mngMr0_3"
      },
      "source": [
        "def pred(model,X_train,X_test):\n",
        "  return model.predict(X_train),model.predict(X_test)"
      ],
      "execution_count": null,
      "outputs": []
    },
    {
      "cell_type": "code",
      "metadata": {
        "id": "unnUBSHDusij"
      },
      "source": [
        "y_train_pred_bef=[]\n",
        "y_test_pred_bef=[]\n",
        "\n",
        "y_train_pred_af=[]\n",
        "y_test_pred_af=[]\n",
        "\n",
        "model_bef=[]\n",
        "model_af=[]\n",
        "\n",
        "model_names=['Logistic Regression','Naive Bayes','Decision Tree','Random Forest','SVM','Gradient Boost','Adaboost','Bagging']"
      ],
      "execution_count": null,
      "outputs": []
    },
    {
      "cell_type": "markdown",
      "metadata": {
        "id": "Og7JYbWFU68X"
      },
      "source": [
        "##### Logistic Regression "
      ]
    },
    {
      "cell_type": "code",
      "metadata": {
        "id": "ILLOAHtuRSGz",
        "colab": {
          "base_uri": "https://localhost:8080/"
        },
        "outputId": "9b6b3894-9f66-4bea-c64e-ce16c357b2c3"
      },
      "source": [
        "# logistic regression and naive bayes have not particularly tuned \n",
        "from sklearn.linear_model import LogisticRegression\n",
        "\n",
        "model = LogisticRegression(max_iter=1000).fit(X_train, y_train) \n",
        "train_pred,test_pred = pred(model,X_train,X_test) \n",
        "\n",
        "y_train_pred_bef.append(train_pred)\n",
        "y_test_pred_bef.append(test_pred)\n",
        "model_bef.append(model)\n",
        "\n",
        "y_train_pred_af.append(train_pred)\n",
        "y_test_pred_af.append(test_pred)\n",
        "model_af.append(model)"
      ],
      "execution_count": null,
      "outputs": [
        {
          "output_type": "stream",
          "name": "stderr",
          "text": [
            "/usr/local/lib/python3.7/dist-packages/sklearn/linear_model/_logistic.py:818: ConvergenceWarning: lbfgs failed to converge (status=1):\n",
            "STOP: TOTAL NO. of ITERATIONS REACHED LIMIT.\n",
            "\n",
            "Increase the number of iterations (max_iter) or scale the data as shown in:\n",
            "    https://scikit-learn.org/stable/modules/preprocessing.html\n",
            "Please also refer to the documentation for alternative solver options:\n",
            "    https://scikit-learn.org/stable/modules/linear_model.html#logistic-regression\n",
            "  extra_warning_msg=_LOGISTIC_SOLVER_CONVERGENCE_MSG,\n"
          ]
        }
      ]
    },
    {
      "cell_type": "markdown",
      "metadata": {
        "id": "KgJxk1FBVBmJ"
      },
      "source": [
        "##### Naive Bayes  "
      ]
    },
    {
      "cell_type": "code",
      "metadata": {
        "id": "CnLQzusZhmM_"
      },
      "source": [
        "from sklearn.naive_bayes import GaussianNB\n",
        "\n",
        "model = GaussianNB().fit(X_train,y_train)\n",
        "train_pred,test_pred = pred(model,X_train,X_test) \n",
        "\n",
        "y_train_pred_bef.append(train_pred)\n",
        "y_test_pred_bef.append(test_pred)\n",
        "model_bef.append(model)\n",
        "\n",
        "y_train_pred_af.append(train_pred)\n",
        "y_test_pred_af.append(test_pred)\n",
        "model_af.append(model)"
      ],
      "execution_count": null,
      "outputs": []
    },
    {
      "cell_type": "markdown",
      "metadata": {
        "id": "c2dvtNqGVEnY"
      },
      "source": [
        "##### Decision Tree "
      ]
    },
    {
      "cell_type": "code",
      "metadata": {
        "id": "9ypGQuatGgvA"
      },
      "source": [
        "from sklearn.tree import DecisionTreeClassifier\n",
        "\n",
        "model = DecisionTreeClassifier().fit(X_train, y_train)\n",
        "train_pred,test_pred = pred(model,X_train,X_test) \n",
        "\n",
        "y_train_pred_bef.append(train_pred)\n",
        "y_test_pred_bef.append(test_pred)\n",
        "model_bef.append(model)"
      ],
      "execution_count": null,
      "outputs": []
    },
    {
      "cell_type": "code",
      "metadata": {
        "id": "4N-MdFboK8i-",
        "colab": {
          "base_uri": "https://localhost:8080/"
        },
        "outputId": "ef0c7b91-11fc-46d4-b78f-98b7161993f3"
      },
      "source": [
        "# removed some non-crucial parameters because the default google colab environment is not designed for compute intensive machine learning workload\n",
        "from sklearn.tree import DecisionTreeClassifier\n",
        "from sklearn.model_selection import GridSearchCV\n",
        "param = {#'criterion'               :['gini','entropy'],\n",
        "         #'splitter'                :['best','random'],\n",
        "         'max_depth'               :[None,2,5],\n",
        "         'min_samples_split'       :[2,3,4],\n",
        "         'min_samples_leaf'        :[1,2,3],\n",
        "         #'min_weight_fraction_leaf':[0,0.1,0.2],\n",
        "         'max_leaf_nodes'          :[None,2,3],\n",
        "         #'min_impurity_decrease'   :[0,0.1,0.2],\n",
        "         'class_weight'            :[None,'balanced'],\n",
        "         #'ccp_alpha'               :[0,0.1,0.2]\n",
        "         }\n",
        "model = DecisionTreeClassifier(random_state=1,max_features='auto')\n",
        "clf = GridSearchCV(model,param)\n",
        "clf.fit(X_train,y_train)"
      ],
      "execution_count": null,
      "outputs": [
        {
          "output_type": "execute_result",
          "data": {
            "text/plain": [
              "GridSearchCV(estimator=DecisionTreeClassifier(max_features='auto',\n",
              "                                              random_state=1),\n",
              "             param_grid={'class_weight': [None, 'balanced'],\n",
              "                         'max_depth': [None, 2, 5],\n",
              "                         'max_leaf_nodes': [None, 2, 3],\n",
              "                         'min_samples_leaf': [1, 2, 3],\n",
              "                         'min_samples_split': [2, 3, 4]})"
            ]
          },
          "metadata": {},
          "execution_count": 42
        }
      ]
    },
    {
      "cell_type": "code",
      "metadata": {
        "colab": {
          "base_uri": "https://localhost:8080/"
        },
        "id": "EJDaz5NbK8i-",
        "outputId": "bfaefa86-e568-4817-ce01-9ceaba937877"
      },
      "source": [
        "best_model = clf.best_estimator_\n",
        "print('Parameters of Best Decision Tree Model: ')\n",
        "for k,i in clf.best_params_.items():\n",
        "  print('{}: {}'.format(k,i))"
      ],
      "execution_count": null,
      "outputs": [
        {
          "output_type": "stream",
          "name": "stdout",
          "text": [
            "Parameters of Best Decision Tree Model: \n",
            "class_weight: None\n",
            "max_depth: None\n",
            "max_leaf_nodes: 2\n",
            "min_samples_leaf: 1\n",
            "min_samples_split: 2\n"
          ]
        }
      ]
    },
    {
      "cell_type": "code",
      "metadata": {
        "id": "A98KlaW6jYul"
      },
      "source": [
        "train_pred,test_pred = pred(best_model,X_train,X_test) \n",
        "\n",
        "y_train_pred_af.append(train_pred)\n",
        "y_test_pred_af.append(test_pred)\n",
        "model_af.append(best_model)"
      ],
      "execution_count": null,
      "outputs": []
    },
    {
      "cell_type": "markdown",
      "metadata": {
        "id": "ZKVWnQvvVNSM"
      },
      "source": [
        "##### Random Forest"
      ]
    },
    {
      "cell_type": "code",
      "metadata": {
        "id": "oz1HPZLYj9jl"
      },
      "source": [
        "from sklearn.ensemble import RandomForestClassifier\n",
        "\n",
        "model = RandomForestClassifier().fit(X_train,y_train)\n",
        "train_pred,test_pred = pred(model,X_train,X_test) \n",
        "\n",
        "y_train_pred_bef.append(train_pred)\n",
        "y_test_pred_bef.append(test_pred)\n",
        "model_bef.append(model)"
      ],
      "execution_count": null,
      "outputs": []
    },
    {
      "cell_type": "code",
      "metadata": {
        "colab": {
          "base_uri": "https://localhost:8080/"
        },
        "id": "FO2vcqul4tXQ",
        "outputId": "bb6926dc-5d05-48a8-cdb4-5a81f4ccdf2c"
      },
      "source": [
        "from sklearn.ensemble import RandomForestClassifier\n",
        "from sklearn.model_selection import GridSearchCV\n",
        "param = {'n_estimators'            :[2,3,5,10],\n",
        "         #'criterion'               :['gini','entropy'],\n",
        "         'max_depth'               :[None,1,2],\n",
        "         'min_samples_split'       :[2,70,0.05], \n",
        "         'min_samples_leaf'        :[0.01,0.02,0.03],\n",
        "         #'min_weight_fraction_leaf':[0,0.1,0.2],\n",
        "         #'max_features'            :[None,'sqrt','log2'],\n",
        "         #'max_leaf_nodes'          :[None,2,3],\n",
        "         'min_impurity_decrease'   :[0,0.1,0.2],\n",
        "         #'bootstrap'               :[True,False],\n",
        "         #'oob_score'               :[True,False], \n",
        "         #'n_jobs'                  :[None,-1,2],\n",
        "         #'random_state'            :[None,1,2],\n",
        "         #'class_weight'            :[None,'balanced'],\n",
        "         #'ccp_alpha'               :[0,0.1,0.2],\n",
        "         #'max_samples'             :[None,25,50]\n",
        "         }\n",
        "model = RandomForestClassifier()\n",
        "clf = GridSearchCV(model,param)\n",
        "clf.fit(X_train,y_train)"
      ],
      "execution_count": null,
      "outputs": [
        {
          "output_type": "execute_result",
          "data": {
            "text/plain": [
              "GridSearchCV(estimator=RandomForestClassifier(),\n",
              "             param_grid={'max_depth': [None, 1, 2],\n",
              "                         'min_impurity_decrease': [0, 0.1, 0.2],\n",
              "                         'min_samples_leaf': [0.01, 0.02, 0.03],\n",
              "                         'min_samples_split': [2, 70, 0.05],\n",
              "                         'n_estimators': [2, 3, 5, 10]})"
            ]
          },
          "metadata": {},
          "execution_count": 46
        }
      ]
    },
    {
      "cell_type": "code",
      "metadata": {
        "id": "rqro-zd-lJ1G",
        "colab": {
          "base_uri": "https://localhost:8080/"
        },
        "outputId": "4db62a54-a959-44c1-da00-58ff09ec502e"
      },
      "source": [
        "best_model = clf.best_estimator_\n",
        "print('Parameters of Best Random Forest Model: ')\n",
        "for k,i in clf.best_params_.items():\n",
        "  print('{}: {}'.format(k,i))"
      ],
      "execution_count": null,
      "outputs": [
        {
          "output_type": "stream",
          "name": "stdout",
          "text": [
            "Parameters of Best Random Forest Model: \n",
            "max_depth: None\n",
            "min_impurity_decrease: 0\n",
            "min_samples_leaf: 0.01\n",
            "min_samples_split: 0.05\n",
            "n_estimators: 10\n"
          ]
        }
      ]
    },
    {
      "cell_type": "code",
      "metadata": {
        "id": "nO9L9uK0jWie"
      },
      "source": [
        "train_pred,test_pred = pred(best_model,X_train,X_test) \n",
        "\n",
        "y_train_pred_af.append(train_pred)\n",
        "y_test_pred_af.append(test_pred)\n",
        "model_af.append(best_model)"
      ],
      "execution_count": null,
      "outputs": []
    },
    {
      "cell_type": "markdown",
      "metadata": {
        "id": "RDFbnjaVVQej"
      },
      "source": [
        "##### SVM\n"
      ]
    },
    {
      "cell_type": "code",
      "metadata": {
        "id": "5OjmDVXTkX5Y"
      },
      "source": [
        "from sklearn.svm import SVC\n",
        "from sklearn.model_selection import GridSearchCV\n",
        "\n",
        "model = SVC(class_weight='balanced').fit(X_train, y_train)\n",
        "train_pred,test_pred = pred(model,X_train,X_test) \n",
        "\n",
        "y_train_pred_bef.append(train_pred)\n",
        "y_test_pred_bef.append(test_pred)\n",
        "model_bef.append(model)"
      ],
      "execution_count": null,
      "outputs": []
    },
    {
      "cell_type": "code",
      "metadata": {
        "colab": {
          "base_uri": "https://localhost:8080/"
        },
        "id": "2w-mk5JDL4UA",
        "outputId": "7792e175-8279-4881-e884-f103145ceafd"
      },
      "source": [
        "from sklearn.svm import SVC\n",
        "from sklearn.model_selection import GridSearchCV\n",
        "param = {'C'        :[1,2,4,8], \n",
        "         'kernel'   :['poly', 'rbf', 'sigmoid'],\n",
        "         'degree'   :[3,4,5],\n",
        "         'gamma'    :['auto','scale']\n",
        "        }\n",
        "model = SVC(class_weight='balanced')\n",
        "clf = GridSearchCV(model,param)\n",
        "clf.fit(X_train,y_train)"
      ],
      "execution_count": null,
      "outputs": [
        {
          "output_type": "execute_result",
          "data": {
            "text/plain": [
              "GridSearchCV(estimator=SVC(class_weight='balanced'),\n",
              "             param_grid={'C': [1, 2, 4, 8], 'degree': [3, 4, 5],\n",
              "                         'gamma': ['auto', 'scale'],\n",
              "                         'kernel': ['poly', 'rbf', 'sigmoid']})"
            ]
          },
          "metadata": {},
          "execution_count": 50
        }
      ]
    },
    {
      "cell_type": "code",
      "metadata": {
        "colab": {
          "base_uri": "https://localhost:8080/"
        },
        "id": "9b-ADgitPFyu",
        "outputId": "8618552e-7cd8-40d0-bc23-55ccccfe0836"
      },
      "source": [
        "best_model = clf.best_estimator_\n",
        "print('Parameters of Best SVC Model: ')\n",
        "for k,i in clf.best_params_.items():\n",
        "  print('{}: {}'.format(k,i))"
      ],
      "execution_count": null,
      "outputs": [
        {
          "output_type": "stream",
          "name": "stdout",
          "text": [
            "Parameters of Best SVC Model: \n",
            "C: 2\n",
            "degree: 5\n",
            "gamma: auto\n",
            "kernel: poly\n"
          ]
        }
      ]
    },
    {
      "cell_type": "code",
      "metadata": {
        "id": "rwhvEDUDjT2H"
      },
      "source": [
        "train_pred,test_pred = pred(best_model,X_train,X_test) \n",
        "\n",
        "y_train_pred_af.append(train_pred)\n",
        "y_test_pred_af.append(test_pred)\n",
        "model_af.append(best_model)"
      ],
      "execution_count": null,
      "outputs": []
    },
    {
      "cell_type": "markdown",
      "metadata": {
        "id": "3eXsgh1MVS6F"
      },
      "source": [
        "##### Gradient Boost"
      ]
    },
    {
      "cell_type": "code",
      "metadata": {
        "id": "uPpDz_CHnkde"
      },
      "source": [
        "from sklearn.ensemble import GradientBoostingClassifier\n",
        "\n",
        "model = GradientBoostingClassifier().fit(X_train, y_train)\n",
        "train_pred,test_pred = pred(model,X_train,X_test) \n",
        "\n",
        "y_train_pred_bef.append(train_pred)\n",
        "y_test_pred_bef.append(test_pred)\n",
        "model_bef.append(model)"
      ],
      "execution_count": null,
      "outputs": []
    },
    {
      "cell_type": "code",
      "metadata": {
        "colab": {
          "base_uri": "https://localhost:8080/"
        },
        "id": "UJkNFOswSAji",
        "outputId": "13468242-bab6-4fa7-c492-7e534839020e"
      },
      "source": [
        "from sklearn.ensemble import GradientBoostingClassifier\n",
        "from sklearn.model_selection import GridSearchCV\n",
        "param = {#'loss'                     :['deviance','exponential'], \n",
        "         'learning_rate'            :[0.1],\n",
        "         'n_estimators'             :[100],\n",
        "         #'subsample'                :[],\n",
        "         'min_samples_split'        :[2,70,0.05], \n",
        "         'min_samples_leaf'         :[0.01,0.02,0.03],\n",
        "         #'min_weight_fraction_leaf' :[],\n",
        "         'max_depth'                :[None, 1, 2],\n",
        "         #'min_impurity_decrease'    :[],\n",
        "         'random_state'             :[1]\n",
        "        }\n",
        "model = GradientBoostingClassifier()\n",
        "clf = GridSearchCV(model,param)\n",
        "clf.fit(X_train,y_train)"
      ],
      "execution_count": null,
      "outputs": [
        {
          "output_type": "execute_result",
          "data": {
            "text/plain": [
              "GridSearchCV(estimator=GradientBoostingClassifier(),\n",
              "             param_grid={'learning_rate': [0.1], 'max_depth': [None, 1, 2],\n",
              "                         'min_samples_leaf': [0.01, 0.02, 0.03],\n",
              "                         'min_samples_split': [2, 70, 0.05],\n",
              "                         'n_estimators': [100], 'random_state': [1]})"
            ]
          },
          "metadata": {},
          "execution_count": 54
        }
      ]
    },
    {
      "cell_type": "code",
      "metadata": {
        "colab": {
          "base_uri": "https://localhost:8080/"
        },
        "id": "GLrlrVdbSAji",
        "outputId": "3d9c93c9-4f0c-4489-d060-56f23df2726e"
      },
      "source": [
        "best_model = clf.best_estimator_\n",
        "print('Parameters of Best Gradient Boost Model: ')\n",
        "for k,i in clf.best_params_.items():\n",
        "  print('{}: {}'.format(k,i))"
      ],
      "execution_count": null,
      "outputs": [
        {
          "output_type": "stream",
          "name": "stdout",
          "text": [
            "Parameters of Best Gradient Boost Model: \n",
            "learning_rate: 0.1\n",
            "max_depth: 1\n",
            "min_samples_leaf: 0.03\n",
            "min_samples_split: 2\n",
            "n_estimators: 100\n",
            "random_state: 1\n"
          ]
        }
      ]
    },
    {
      "cell_type": "code",
      "metadata": {
        "id": "azCQzHikjRII"
      },
      "source": [
        "train_pred,test_pred = pred(best_model,X_train,X_test) \n",
        "\n",
        "y_train_pred_af.append(train_pred)\n",
        "y_test_pred_af.append(test_pred)\n",
        "model_af.append(best_model)"
      ],
      "execution_count": null,
      "outputs": []
    },
    {
      "cell_type": "markdown",
      "metadata": {
        "id": "beTz0HS8VVpW"
      },
      "source": [
        "##### Adaboost"
      ]
    },
    {
      "cell_type": "code",
      "metadata": {
        "id": "HCYuM0SdntvC"
      },
      "source": [
        "from sklearn.ensemble import AdaBoostClassifier\n",
        "\n",
        "model = AdaBoostClassifier().fit(X_train, y_train)\n",
        "train_pred,test_pred = pred(model,X_train,X_test) \n",
        "\n",
        "y_train_pred_bef.append(train_pred)\n",
        "y_test_pred_bef.append(test_pred)\n",
        "model_bef.append(model)"
      ],
      "execution_count": null,
      "outputs": []
    },
    {
      "cell_type": "code",
      "metadata": {
        "colab": {
          "base_uri": "https://localhost:8080/"
        },
        "id": "PsMWBwuOT-ep",
        "outputId": "cc6e51bd-5180-408f-a762-3436453352d3"
      },
      "source": [
        "from sklearn.ensemble import AdaBoostClassifier\n",
        "from sklearn.model_selection import GridSearchCV\n",
        "from sklearn.linear_model import LogisticRegression\n",
        "from sklearn.naive_bayes import GaussianNB\n",
        "\n",
        "param = {'base_estimator'           :[None,LogisticRegression(),GaussianNB()],\n",
        "         'n_estimators'             :[5,10,15,50],\n",
        "         'learning_rate'            :[1.0],\n",
        "         'random_state'             :[1]\n",
        "        }\n",
        "model = AdaBoostClassifier()\n",
        "clf = GridSearchCV(model,param)\n",
        "clf.fit(X_train,y_train)"
      ],
      "execution_count": null,
      "outputs": [
        {
          "output_type": "execute_result",
          "data": {
            "text/plain": [
              "GridSearchCV(estimator=AdaBoostClassifier(),\n",
              "             param_grid={'base_estimator': [None, LogisticRegression(),\n",
              "                                            GaussianNB()],\n",
              "                         'learning_rate': [1.0],\n",
              "                         'n_estimators': [5, 10, 15, 50], 'random_state': [1]})"
            ]
          },
          "metadata": {},
          "execution_count": 58
        }
      ]
    },
    {
      "cell_type": "code",
      "metadata": {
        "colab": {
          "base_uri": "https://localhost:8080/"
        },
        "id": "mfMBHDlDT-eq",
        "outputId": "a7f4dba6-75e1-4e6e-8d2f-1cb9f897bbc1"
      },
      "source": [
        "best_model = clf.best_estimator_\n",
        "print('Parameters of Best AdaBoost Model: ')\n",
        "for k,i in clf.best_params_.items():\n",
        "  print('{}: {}'.format(k,i))"
      ],
      "execution_count": null,
      "outputs": [
        {
          "output_type": "stream",
          "name": "stdout",
          "text": [
            "Parameters of Best AdaBoost Model: \n",
            "base_estimator: LogisticRegression()\n",
            "learning_rate: 1.0\n",
            "n_estimators: 10\n",
            "random_state: 1\n"
          ]
        }
      ]
    },
    {
      "cell_type": "code",
      "metadata": {
        "id": "Lpo2Zbu9jNFB"
      },
      "source": [
        "train_pred,test_pred = pred(best_model,X_train,X_test) \n",
        "\n",
        "y_train_pred_af.append(train_pred)\n",
        "y_test_pred_af.append(test_pred)\n",
        "model_af.append(best_model)"
      ],
      "execution_count": null,
      "outputs": []
    },
    {
      "cell_type": "markdown",
      "metadata": {
        "id": "Km9MP7AMVYuG"
      },
      "source": [
        "##### Bagging"
      ]
    },
    {
      "cell_type": "code",
      "metadata": {
        "id": "vqXMLwIjgnJn"
      },
      "source": [
        "from sklearn.ensemble import BaggingClassifier\n",
        "\n",
        "model=BaggingClassifier().fit(X_train,y_train)\n",
        "train_pred,test_pred = pred(model,X_train,X_test) \n",
        "\n",
        "y_train_pred_bef.append(train_pred)\n",
        "y_test_pred_bef.append(test_pred)\n",
        "model_bef.append(model)"
      ],
      "execution_count": null,
      "outputs": []
    },
    {
      "cell_type": "code",
      "metadata": {
        "colab": {
          "base_uri": "https://localhost:8080/"
        },
        "id": "cXzO4e5mLYkd",
        "outputId": "d521af9e-d04c-428f-d488-2568a1bbce68"
      },
      "source": [
        "from sklearn.ensemble import BaggingClassifier\n",
        "from sklearn.model_selection import GridSearchCV\n",
        "from sklearn.linear_model import LogisticRegression\n",
        "from sklearn.naive_bayes import GaussianNB\n",
        "param = {'base_estimator'          :[None,LogisticRegression(max_iter=1000),GaussianNB()],\n",
        "         'n_estimators'            :[5,10,15],\n",
        "         'max_samples'             :[1.0,100,0.5],\n",
        "         #'max_features'            :[1.0,5,0.5],\n",
        "         #'bootstrap'               :[True,False],\n",
        "         #'bootstrap_features'      :[True,False],\n",
        "         #'oob_score'               :[True,False], \n",
        "         #'n_jobs'                  :[None,-1,2],\n",
        "         'random_state'            :[1],\n",
        "         }\n",
        "model = BaggingClassifier()\n",
        "clf = GridSearchCV(model,param)\n",
        "clf.fit(X_train,y_train)"
      ],
      "execution_count": null,
      "outputs": [
        {
          "output_type": "stream",
          "name": "stderr",
          "text": [
            "/usr/local/lib/python3.7/dist-packages/sklearn/linear_model/_logistic.py:818: ConvergenceWarning: lbfgs failed to converge (status=1):\n",
            "STOP: TOTAL NO. of ITERATIONS REACHED LIMIT.\n",
            "\n",
            "Increase the number of iterations (max_iter) or scale the data as shown in:\n",
            "    https://scikit-learn.org/stable/modules/preprocessing.html\n",
            "Please also refer to the documentation for alternative solver options:\n",
            "    https://scikit-learn.org/stable/modules/linear_model.html#logistic-regression\n",
            "  extra_warning_msg=_LOGISTIC_SOLVER_CONVERGENCE_MSG,\n",
            "/usr/local/lib/python3.7/dist-packages/sklearn/linear_model/_logistic.py:818: ConvergenceWarning: lbfgs failed to converge (status=1):\n",
            "STOP: TOTAL NO. of ITERATIONS REACHED LIMIT.\n",
            "\n",
            "Increase the number of iterations (max_iter) or scale the data as shown in:\n",
            "    https://scikit-learn.org/stable/modules/preprocessing.html\n",
            "Please also refer to the documentation for alternative solver options:\n",
            "    https://scikit-learn.org/stable/modules/linear_model.html#logistic-regression\n",
            "  extra_warning_msg=_LOGISTIC_SOLVER_CONVERGENCE_MSG,\n",
            "/usr/local/lib/python3.7/dist-packages/sklearn/linear_model/_logistic.py:818: ConvergenceWarning: lbfgs failed to converge (status=1):\n",
            "STOP: TOTAL NO. of ITERATIONS REACHED LIMIT.\n",
            "\n",
            "Increase the number of iterations (max_iter) or scale the data as shown in:\n",
            "    https://scikit-learn.org/stable/modules/preprocessing.html\n",
            "Please also refer to the documentation for alternative solver options:\n",
            "    https://scikit-learn.org/stable/modules/linear_model.html#logistic-regression\n",
            "  extra_warning_msg=_LOGISTIC_SOLVER_CONVERGENCE_MSG,\n",
            "/usr/local/lib/python3.7/dist-packages/sklearn/linear_model/_logistic.py:818: ConvergenceWarning: lbfgs failed to converge (status=1):\n",
            "STOP: TOTAL NO. of ITERATIONS REACHED LIMIT.\n",
            "\n",
            "Increase the number of iterations (max_iter) or scale the data as shown in:\n",
            "    https://scikit-learn.org/stable/modules/preprocessing.html\n",
            "Please also refer to the documentation for alternative solver options:\n",
            "    https://scikit-learn.org/stable/modules/linear_model.html#logistic-regression\n",
            "  extra_warning_msg=_LOGISTIC_SOLVER_CONVERGENCE_MSG,\n",
            "/usr/local/lib/python3.7/dist-packages/sklearn/linear_model/_logistic.py:818: ConvergenceWarning: lbfgs failed to converge (status=1):\n",
            "STOP: TOTAL NO. of ITERATIONS REACHED LIMIT.\n",
            "\n",
            "Increase the number of iterations (max_iter) or scale the data as shown in:\n",
            "    https://scikit-learn.org/stable/modules/preprocessing.html\n",
            "Please also refer to the documentation for alternative solver options:\n",
            "    https://scikit-learn.org/stable/modules/linear_model.html#logistic-regression\n",
            "  extra_warning_msg=_LOGISTIC_SOLVER_CONVERGENCE_MSG,\n",
            "/usr/local/lib/python3.7/dist-packages/sklearn/model_selection/_validation.py:372: FitFailedWarning: \n",
            "11 fits failed out of a total of 135.\n",
            "The score on these train-test partitions for these parameters will be set to nan.\n",
            "If these failures are not expected, you can try to debug them by setting error_score='raise'.\n",
            "\n",
            "Below are more details about the failures:\n",
            "--------------------------------------------------------------------------------\n",
            "11 fits failed with the following error:\n",
            "Traceback (most recent call last):\n",
            "  File \"/usr/local/lib/python3.7/dist-packages/sklearn/model_selection/_validation.py\", line 681, in _fit_and_score\n",
            "    estimator.fit(X_train, y_train, **fit_params)\n",
            "  File \"/usr/local/lib/python3.7/dist-packages/sklearn/ensemble/_bagging.py\", line 269, in fit\n",
            "    return self._fit(X, y, self.max_samples, sample_weight=sample_weight)\n",
            "  File \"/usr/local/lib/python3.7/dist-packages/sklearn/ensemble/_bagging.py\", line 407, in _fit\n",
            "    for i in range(n_jobs)\n",
            "  File \"/usr/local/lib/python3.7/dist-packages/joblib/parallel.py\", line 1043, in __call__\n",
            "    if self.dispatch_one_batch(iterator):\n",
            "  File \"/usr/local/lib/python3.7/dist-packages/joblib/parallel.py\", line 861, in dispatch_one_batch\n",
            "    self._dispatch(tasks)\n",
            "  File \"/usr/local/lib/python3.7/dist-packages/joblib/parallel.py\", line 779, in _dispatch\n",
            "    job = self._backend.apply_async(batch, callback=cb)\n",
            "  File \"/usr/local/lib/python3.7/dist-packages/joblib/_parallel_backends.py\", line 208, in apply_async\n",
            "    result = ImmediateResult(func)\n",
            "  File \"/usr/local/lib/python3.7/dist-packages/joblib/_parallel_backends.py\", line 572, in __init__\n",
            "    self.results = batch()\n",
            "  File \"/usr/local/lib/python3.7/dist-packages/joblib/parallel.py\", line 263, in __call__\n",
            "    for func, args, kwargs in self.items]\n",
            "  File \"/usr/local/lib/python3.7/dist-packages/joblib/parallel.py\", line 263, in <listcomp>\n",
            "    for func, args, kwargs in self.items]\n",
            "  File \"/usr/local/lib/python3.7/dist-packages/sklearn/utils/fixes.py\", line 211, in __call__\n",
            "    return self.function(*args, **kwargs)\n",
            "  File \"/usr/local/lib/python3.7/dist-packages/sklearn/ensemble/_bagging.py\", line 123, in _parallel_build_estimators\n",
            "    estimator.fit(X[:, features], y, sample_weight=curr_sample_weight)\n",
            "  File \"/usr/local/lib/python3.7/dist-packages/sklearn/naive_bayes.py\", line 246, in fit\n",
            "    X, y, np.unique(y), _refit=True, sample_weight=sample_weight\n",
            "  File \"/usr/local/lib/python3.7/dist-packages/sklearn/naive_bayes.py\", line 469, in _partial_fit\n",
            "    self.class_count_[i], self.theta_[i, :], self.var_[i, :], X_i, sw_i\n",
            "  File \"/usr/local/lib/python3.7/dist-packages/sklearn/naive_bayes.py\", line 299, in _update_mean_variance\n",
            "    new_mu = np.average(X, axis=0, weights=sample_weight)\n",
            "  File \"<__array_function__ internals>\", line 6, in average\n",
            "  File \"/usr/local/lib/python3.7/dist-packages/numpy/lib/function_base.py\", line 410, in average\n",
            "    \"Weights sum to zero, can't be normalized\")\n",
            "ZeroDivisionError: Weights sum to zero, can't be normalized\n",
            "\n",
            "  warnings.warn(some_fits_failed_message, FitFailedWarning)\n",
            "/usr/local/lib/python3.7/dist-packages/sklearn/model_selection/_search.py:972: UserWarning: One or more of the test scores are non-finite: [0.77929607 0.77184265 0.77060041 0.8426501  0.836853   0.83519669\n",
            " 0.79378882 0.78136646 0.77639752 0.84968944 0.85010352 0.85175983\n",
            " 0.85424431 0.85465839 0.85465839 0.85507246 0.85217391 0.85217391\n",
            " 0.27204969 0.28571429 0.28695652        nan        nan        nan\n",
            " 0.23478261 0.25341615 0.25755694]\n",
            "  category=UserWarning,\n"
          ]
        },
        {
          "output_type": "execute_result",
          "data": {
            "text/plain": [
              "GridSearchCV(estimator=BaggingClassifier(),\n",
              "             param_grid={'base_estimator': [None,\n",
              "                                            LogisticRegression(max_iter=1000),\n",
              "                                            GaussianNB()],\n",
              "                         'max_samples': [1.0, 100, 0.5],\n",
              "                         'n_estimators': [5, 10, 15], 'random_state': [1]})"
            ]
          },
          "metadata": {},
          "execution_count": 62
        }
      ]
    },
    {
      "cell_type": "code",
      "metadata": {
        "id": "ar08uIH7Ucc7",
        "colab": {
          "base_uri": "https://localhost:8080/"
        },
        "outputId": "ab72d713-8b6b-48df-f5d9-5531316af44f"
      },
      "source": [
        "best_model = clf.best_estimator_\n",
        "print('Parameters of Best Bagging Classifier Model: ')\n",
        "for k,i in clf.best_params_.items():\n",
        "  print('{}: {}'.format(k,i))"
      ],
      "execution_count": null,
      "outputs": [
        {
          "output_type": "stream",
          "name": "stdout",
          "text": [
            "Parameters of Best Bagging Classifier Model: \n",
            "base_estimator: LogisticRegression(max_iter=1000)\n",
            "max_samples: 0.5\n",
            "n_estimators: 5\n",
            "random_state: 1\n"
          ]
        }
      ]
    },
    {
      "cell_type": "code",
      "metadata": {
        "id": "cUhEDsg4jCpL"
      },
      "source": [
        "train_pred,test_pred = pred(best_model,X_train,X_test) \n",
        "\n",
        "y_train_pred_af.append(train_pred)\n",
        "y_test_pred_af.append(test_pred)\n",
        "model_af.append(best_model)"
      ],
      "execution_count": null,
      "outputs": []
    },
    {
      "cell_type": "markdown",
      "metadata": {
        "id": "xVXui_prYgNE"
      },
      "source": [
        "#### Model Comparison"
      ]
    },
    {
      "cell_type": "code",
      "metadata": {
        "colab": {
          "base_uri": "https://localhost:8080/"
        },
        "id": "uj8yGWwE0Sqg",
        "outputId": "b6d39cff-9d59-4757-a386-567c01e9bbb5"
      },
      "source": [
        "model_bef\n",
        "# all models before tuning"
      ],
      "execution_count": null,
      "outputs": [
        {
          "output_type": "execute_result",
          "data": {
            "text/plain": [
              "[LogisticRegression(max_iter=1000),\n",
              " GaussianNB(),\n",
              " DecisionTreeClassifier(),\n",
              " RandomForestClassifier(),\n",
              " SVC(class_weight='balanced'),\n",
              " GradientBoostingClassifier(),\n",
              " AdaBoostClassifier(),\n",
              " BaggingClassifier()]"
            ]
          },
          "metadata": {},
          "execution_count": 65
        }
      ]
    },
    {
      "cell_type": "code",
      "metadata": {
        "colab": {
          "base_uri": "https://localhost:8080/"
        },
        "id": "smsYY7ty4XJB",
        "outputId": "071628d3-ab47-4904-b812-86c54765fe29"
      },
      "source": [
        "model_af\n",
        "# all models after tuning"
      ],
      "execution_count": null,
      "outputs": [
        {
          "output_type": "execute_result",
          "data": {
            "text/plain": [
              "[LogisticRegression(max_iter=1000),\n",
              " GaussianNB(),\n",
              " DecisionTreeClassifier(max_features='auto', max_leaf_nodes=2, random_state=1),\n",
              " RandomForestClassifier(min_impurity_decrease=0, min_samples_leaf=0.01,\n",
              "                        min_samples_split=0.05, n_estimators=10),\n",
              " SVC(C=2, class_weight='balanced', degree=5, gamma='auto', kernel='poly'),\n",
              " GradientBoostingClassifier(max_depth=1, min_samples_leaf=0.03, random_state=1),\n",
              " AdaBoostClassifier(base_estimator=LogisticRegression(), n_estimators=10,\n",
              "                    random_state=1),\n",
              " BaggingClassifier(base_estimator=LogisticRegression(max_iter=1000),\n",
              "                   max_samples=0.5, n_estimators=5, random_state=1)]"
            ]
          },
          "metadata": {},
          "execution_count": 66
        }
      ]
    },
    {
      "cell_type": "code",
      "metadata": {
        "id": "yUAOVm2Fa5xX"
      },
      "source": [
        "# Apply classification metrics such as confusion matrix, precision, recall, f-measure etc. \n",
        "def classification_metrics(y_true,y_pred,beta=1,ret=[]):\n",
        "  import numpy as np\n",
        "  from sklearn.metrics import classification_report, confusion_matrix, precision_recall_fscore_support, fbeta_score, accuracy_score, roc_auc_score\n",
        "  np.seterr(divide='ignore', invalid='ignore')\n",
        "\n",
        "  classification_report = classification_report(y_true,y_pred)\n",
        "  confusion_matrix = confusion_matrix(y_true,y_pred)\n",
        "\n",
        "  FP = confusion_matrix.sum(axis=0) - np.diag(confusion_matrix)  \n",
        "  FN = confusion_matrix.sum(axis=1) - np.diag(confusion_matrix)\n",
        "  TP = np.diag(confusion_matrix)\n",
        "  TN = confusion_matrix.sum() - (FP + FN + TP)\n",
        "  FPR = FP/(FP+TN) # aka Type 1 Error, Type I Error\n",
        "  FNR = FN/(FN+TP) # aka Type 2 Error, Type II Error \n",
        "  TPR = TP/(TP+FN) # aka Recall, Sensitivity\n",
        "  TNR = TN/(TN+FP) # aka Specificity\n",
        "\n",
        "  precision, TPR, f1_score, support = precision_recall_fscore_support(y_true,y_pred,zero_division=0)\n",
        "  try: accuracy = accuracy_score(y_true,y_pred)\n",
        "  except: accuracy = 0\n",
        "  try: roc_auc_score = roc_auc_score(y_true,y_pred)\n",
        "  except: roc_auc_score = 0\n",
        "\n",
        "  if ret == 'all': \n",
        "    beta = 2 \n",
        "    ret = ['classification_report','confusion_matrix','fpr','fnr','tpr','tnr','precision','f1_score','fbeta_score','accuracy','auc']\n",
        "  \n",
        "  scores=[]\n",
        "  for i in ret:\n",
        "    if i == 'classification_report': print('Classification Report:\\n',classification_report);\n",
        "    elif i == 'confusion_matrix': scores.append(confusion_matrix);\n",
        "    elif i in ('fpr','type_1_error','type_I_error'): scores.append(FPR);\n",
        "    elif i in ('fnr','type_2_error','type_II_error'): scores.append(FNR);\n",
        "    elif i in ('tpr','recall','sensitivity'): scores.append(TPR);\n",
        "    elif i in ('tnr','specificity'): scores.append(TNR)\n",
        "    elif i == 'precision': scores.append(precision)\n",
        "    elif i == 'f1_score': scores.append(f1_score)\n",
        "    elif i == 'fbeta_score': \n",
        "      try: scores.append(fbeta_score(y_true,y_pred,beta=beta,zero_division=1))\n",
        "      except: scores.append(0)\n",
        "    elif i in ('accuracy','accuracy_score'): scores.append(accuracy)\n",
        "    elif i in ('roc_auc','roc_auc_score','auc','auc_score'): scores.append(roc_auc_score)\n",
        "  if not scores: return None\n",
        "  return scores\n",
        "\n",
        "#def_metrics = classification_metrics(y_test,y_pred,ret='all')"
      ],
      "execution_count": null,
      "outputs": []
    },
    {
      "cell_type": "markdown",
      "metadata": {
        "id": "WLKVN1wUktU1"
      },
      "source": [
        "##### training accuracy scores before hyperparameter tuning"
      ]
    },
    {
      "cell_type": "code",
      "metadata": {
        "colab": {
          "base_uri": "https://localhost:8080/"
        },
        "id": "lUMNxvkbA0sK",
        "outputId": "4b3c9a76-0917-4fc6-95d2-07d35d86913b"
      },
      "source": [
        "toot_train=[]\n",
        "for y_pred in y_test_pred_bef:\n",
        "  toot_train.append(classification_metrics(y_test,y_pred,ret=['accuracy_score']))"
      ],
      "execution_count": null,
      "outputs": [
        {
          "output_type": "stream",
          "name": "stderr",
          "text": [
            "/usr/local/lib/python3.7/dist-packages/sklearn/metrics/_ranking.py:546: FutureWarning: Arrays of bytes/strings is being converted to decimal numbers if dtype='numeric'. This behavior is deprecated in 0.24 and will be removed in 1.1 (renaming of 0.26). Please convert your data to numeric values explicitly instead.\n",
            "  y_score = check_array(y_score, ensure_2d=False)\n",
            "/usr/local/lib/python3.7/dist-packages/sklearn/metrics/_classification.py:1308: UndefinedMetricWarning: Precision and F-score are ill-defined and being set to 0.0 in labels with no predicted samples. Use `zero_division` parameter to control this behavior.\n",
            "  _warn_prf(average, modifier, msg_start, len(result))\n",
            "/usr/local/lib/python3.7/dist-packages/sklearn/metrics/_classification.py:1308: UndefinedMetricWarning: Precision and F-score are ill-defined and being set to 0.0 in labels with no predicted samples. Use `zero_division` parameter to control this behavior.\n",
            "  _warn_prf(average, modifier, msg_start, len(result))\n",
            "/usr/local/lib/python3.7/dist-packages/sklearn/metrics/_classification.py:1308: UndefinedMetricWarning: Precision and F-score are ill-defined and being set to 0.0 in labels with no predicted samples. Use `zero_division` parameter to control this behavior.\n",
            "  _warn_prf(average, modifier, msg_start, len(result))\n"
          ]
        }
      ]
    },
    {
      "cell_type": "code",
      "metadata": {
        "colab": {
          "base_uri": "https://localhost:8080/"
        },
        "id": "9rfrjGuOA0sL",
        "outputId": "30d00fdf-8a7a-46ac-fca0-c6bfac8cd519"
      },
      "source": [
        "toot_train\n",
        "# train accuracy before tuning"
      ],
      "execution_count": null,
      "outputs": [
        {
          "output_type": "execute_result",
          "data": {
            "text/plain": [
              "[[0.8449131513647643],\n",
              " [0.6240694789081885],\n",
              " [0.7382133995037221],\n",
              " [0.749379652605459],\n",
              " [0.5620347394540943],\n",
              " [0.7568238213399504],\n",
              " [0.8449131513647643],\n",
              " [0.750620347394541]]"
            ]
          },
          "metadata": {},
          "execution_count": 69
        }
      ]
    },
    {
      "cell_type": "markdown",
      "metadata": {
        "id": "65ZzwCHmkqij"
      },
      "source": [
        "##### testing accuracy scores before hyperparameter tuning"
      ]
    },
    {
      "cell_type": "code",
      "metadata": {
        "id": "znuhy2TH3q01",
        "colab": {
          "base_uri": "https://localhost:8080/"
        },
        "outputId": "dad3a5c5-ba09-44d8-ea0f-2078792adbe1"
      },
      "source": [
        "toot=[]\n",
        "for y_pred in y_test_pred_bef:\n",
        "  toot.append(classification_metrics(y_test,y_pred,ret=['accuracy_score']))"
      ],
      "execution_count": null,
      "outputs": [
        {
          "output_type": "stream",
          "name": "stderr",
          "text": [
            "/usr/local/lib/python3.7/dist-packages/sklearn/metrics/_ranking.py:546: FutureWarning: Arrays of bytes/strings is being converted to decimal numbers if dtype='numeric'. This behavior is deprecated in 0.24 and will be removed in 1.1 (renaming of 0.26). Please convert your data to numeric values explicitly instead.\n",
            "  y_score = check_array(y_score, ensure_2d=False)\n",
            "/usr/local/lib/python3.7/dist-packages/sklearn/metrics/_classification.py:1308: UndefinedMetricWarning: Precision and F-score are ill-defined and being set to 0.0 in labels with no predicted samples. Use `zero_division` parameter to control this behavior.\n",
            "  _warn_prf(average, modifier, msg_start, len(result))\n",
            "/usr/local/lib/python3.7/dist-packages/sklearn/metrics/_classification.py:1308: UndefinedMetricWarning: Precision and F-score are ill-defined and being set to 0.0 in labels with no predicted samples. Use `zero_division` parameter to control this behavior.\n",
            "  _warn_prf(average, modifier, msg_start, len(result))\n",
            "/usr/local/lib/python3.7/dist-packages/sklearn/metrics/_classification.py:1308: UndefinedMetricWarning: Precision and F-score are ill-defined and being set to 0.0 in labels with no predicted samples. Use `zero_division` parameter to control this behavior.\n",
            "  _warn_prf(average, modifier, msg_start, len(result))\n"
          ]
        }
      ]
    },
    {
      "cell_type": "code",
      "metadata": {
        "colab": {
          "base_uri": "https://localhost:8080/"
        },
        "id": "TcUmYZtx33wV",
        "outputId": "5d41ea0c-99f7-4ba6-8d5c-918d0f46a07b"
      },
      "source": [
        "toot\n",
        "# accuracy before tuning"
      ],
      "execution_count": null,
      "outputs": [
        {
          "output_type": "execute_result",
          "data": {
            "text/plain": [
              "[[0.8449131513647643],\n",
              " [0.6240694789081885],\n",
              " [0.7382133995037221],\n",
              " [0.749379652605459],\n",
              " [0.5620347394540943],\n",
              " [0.7568238213399504],\n",
              " [0.8449131513647643],\n",
              " [0.750620347394541]]"
            ]
          },
          "metadata": {},
          "execution_count": 71
        }
      ]
    },
    {
      "cell_type": "markdown",
      "metadata": {
        "id": "mJGtPB1HkmFv"
      },
      "source": [
        "##### training accuracy scores after hyperparameter tuning"
      ]
    },
    {
      "cell_type": "code",
      "metadata": {
        "colab": {
          "base_uri": "https://localhost:8080/"
        },
        "id": "Sq1skE-tAk3N",
        "outputId": "06b99163-38d2-4256-861d-2e593763b2fd"
      },
      "source": [
        "something_train=[]\n",
        "for y_pred in y_test_pred_af:\n",
        "  something_train.append(classification_metrics(y_test,y_pred,ret=['accuracy_score']))"
      ],
      "execution_count": null,
      "outputs": [
        {
          "output_type": "stream",
          "name": "stderr",
          "text": [
            "/usr/local/lib/python3.7/dist-packages/sklearn/metrics/_ranking.py:546: FutureWarning: Arrays of bytes/strings is being converted to decimal numbers if dtype='numeric'. This behavior is deprecated in 0.24 and will be removed in 1.1 (renaming of 0.26). Please convert your data to numeric values explicitly instead.\n",
            "  y_score = check_array(y_score, ensure_2d=False)\n",
            "/usr/local/lib/python3.7/dist-packages/sklearn/metrics/_classification.py:1308: UndefinedMetricWarning: Precision and F-score are ill-defined and being set to 0.0 in labels with no predicted samples. Use `zero_division` parameter to control this behavior.\n",
            "  _warn_prf(average, modifier, msg_start, len(result))\n",
            "/usr/local/lib/python3.7/dist-packages/sklearn/metrics/_classification.py:1308: UndefinedMetricWarning: Precision and F-score are ill-defined and being set to 0.0 in labels with no predicted samples. Use `zero_division` parameter to control this behavior.\n",
            "  _warn_prf(average, modifier, msg_start, len(result))\n",
            "/usr/local/lib/python3.7/dist-packages/sklearn/metrics/_classification.py:1308: UndefinedMetricWarning: Precision and F-score are ill-defined and being set to 0.0 in labels with no predicted samples. Use `zero_division` parameter to control this behavior.\n",
            "  _warn_prf(average, modifier, msg_start, len(result))\n",
            "/usr/local/lib/python3.7/dist-packages/sklearn/metrics/_classification.py:1308: UndefinedMetricWarning: Precision and F-score are ill-defined and being set to 0.0 in labels with no predicted samples. Use `zero_division` parameter to control this behavior.\n",
            "  _warn_prf(average, modifier, msg_start, len(result))\n",
            "/usr/local/lib/python3.7/dist-packages/sklearn/metrics/_classification.py:1308: UndefinedMetricWarning: Precision and F-score are ill-defined and being set to 0.0 in labels with no predicted samples. Use `zero_division` parameter to control this behavior.\n",
            "  _warn_prf(average, modifier, msg_start, len(result))\n",
            "/usr/local/lib/python3.7/dist-packages/sklearn/metrics/_classification.py:1308: UndefinedMetricWarning: Precision and F-score are ill-defined and being set to 0.0 in labels with no predicted samples. Use `zero_division` parameter to control this behavior.\n",
            "  _warn_prf(average, modifier, msg_start, len(result))\n",
            "/usr/local/lib/python3.7/dist-packages/sklearn/metrics/_classification.py:1308: UndefinedMetricWarning: Precision and F-score are ill-defined and being set to 0.0 in labels with no predicted samples. Use `zero_division` parameter to control this behavior.\n",
            "  _warn_prf(average, modifier, msg_start, len(result))\n",
            "/usr/local/lib/python3.7/dist-packages/sklearn/metrics/_classification.py:1308: UndefinedMetricWarning: Precision and F-score are ill-defined and being set to 0.0 in labels with no predicted samples. Use `zero_division` parameter to control this behavior.\n",
            "  _warn_prf(average, modifier, msg_start, len(result))\n",
            "/usr/local/lib/python3.7/dist-packages/sklearn/metrics/_classification.py:1308: UndefinedMetricWarning: Precision and F-score are ill-defined and being set to 0.0 in labels with no predicted samples. Use `zero_division` parameter to control this behavior.\n",
            "  _warn_prf(average, modifier, msg_start, len(result))\n"
          ]
        }
      ]
    },
    {
      "cell_type": "code",
      "metadata": {
        "colab": {
          "base_uri": "https://localhost:8080/"
        },
        "id": "TWwdjqYTAubE",
        "outputId": "53476547-d1f9-48a7-fb9d-42b10e2c10df"
      },
      "source": [
        "something_train\n",
        "# train scores after tuning"
      ],
      "execution_count": null,
      "outputs": [
        {
          "output_type": "execute_result",
          "data": {
            "text/plain": [
              "[[0.8449131513647643],\n",
              " [0.6240694789081885],\n",
              " [0.8535980148883374],\n",
              " [0.8535980148883374],\n",
              " [0.7816377171215881],\n",
              " [0.8349875930521092],\n",
              " [0.8498759305210918],\n",
              " [0.8548387096774194]]"
            ]
          },
          "metadata": {},
          "execution_count": 73
        }
      ]
    },
    {
      "cell_type": "markdown",
      "metadata": {
        "id": "FORs2Lsgkfa9"
      },
      "source": [
        "##### testing accuracy scores after hyperparameter tuning"
      ]
    },
    {
      "cell_type": "code",
      "metadata": {
        "id": "oXuuJI-213xb",
        "colab": {
          "base_uri": "https://localhost:8080/"
        },
        "outputId": "0fe47af6-1bec-43c9-a991-221eabd0c896"
      },
      "source": [
        "something=[]\n",
        "for y_pred in y_test_pred_af:\n",
        "  something.append(classification_metrics(y_test,y_pred,ret=['accuracy_score']))"
      ],
      "execution_count": null,
      "outputs": [
        {
          "output_type": "stream",
          "name": "stderr",
          "text": [
            "/usr/local/lib/python3.7/dist-packages/sklearn/metrics/_ranking.py:546: FutureWarning: Arrays of bytes/strings is being converted to decimal numbers if dtype='numeric'. This behavior is deprecated in 0.24 and will be removed in 1.1 (renaming of 0.26). Please convert your data to numeric values explicitly instead.\n",
            "  y_score = check_array(y_score, ensure_2d=False)\n",
            "/usr/local/lib/python3.7/dist-packages/sklearn/metrics/_classification.py:1308: UndefinedMetricWarning: Precision and F-score are ill-defined and being set to 0.0 in labels with no predicted samples. Use `zero_division` parameter to control this behavior.\n",
            "  _warn_prf(average, modifier, msg_start, len(result))\n",
            "/usr/local/lib/python3.7/dist-packages/sklearn/metrics/_classification.py:1308: UndefinedMetricWarning: Precision and F-score are ill-defined and being set to 0.0 in labels with no predicted samples. Use `zero_division` parameter to control this behavior.\n",
            "  _warn_prf(average, modifier, msg_start, len(result))\n",
            "/usr/local/lib/python3.7/dist-packages/sklearn/metrics/_classification.py:1308: UndefinedMetricWarning: Precision and F-score are ill-defined and being set to 0.0 in labels with no predicted samples. Use `zero_division` parameter to control this behavior.\n",
            "  _warn_prf(average, modifier, msg_start, len(result))\n",
            "/usr/local/lib/python3.7/dist-packages/sklearn/metrics/_classification.py:1308: UndefinedMetricWarning: Precision and F-score are ill-defined and being set to 0.0 in labels with no predicted samples. Use `zero_division` parameter to control this behavior.\n",
            "  _warn_prf(average, modifier, msg_start, len(result))\n",
            "/usr/local/lib/python3.7/dist-packages/sklearn/metrics/_classification.py:1308: UndefinedMetricWarning: Precision and F-score are ill-defined and being set to 0.0 in labels with no predicted samples. Use `zero_division` parameter to control this behavior.\n",
            "  _warn_prf(average, modifier, msg_start, len(result))\n",
            "/usr/local/lib/python3.7/dist-packages/sklearn/metrics/_classification.py:1308: UndefinedMetricWarning: Precision and F-score are ill-defined and being set to 0.0 in labels with no predicted samples. Use `zero_division` parameter to control this behavior.\n",
            "  _warn_prf(average, modifier, msg_start, len(result))\n",
            "/usr/local/lib/python3.7/dist-packages/sklearn/metrics/_classification.py:1308: UndefinedMetricWarning: Precision and F-score are ill-defined and being set to 0.0 in labels with no predicted samples. Use `zero_division` parameter to control this behavior.\n",
            "  _warn_prf(average, modifier, msg_start, len(result))\n",
            "/usr/local/lib/python3.7/dist-packages/sklearn/metrics/_classification.py:1308: UndefinedMetricWarning: Precision and F-score are ill-defined and being set to 0.0 in labels with no predicted samples. Use `zero_division` parameter to control this behavior.\n",
            "  _warn_prf(average, modifier, msg_start, len(result))\n",
            "/usr/local/lib/python3.7/dist-packages/sklearn/metrics/_classification.py:1308: UndefinedMetricWarning: Precision and F-score are ill-defined and being set to 0.0 in labels with no predicted samples. Use `zero_division` parameter to control this behavior.\n",
            "  _warn_prf(average, modifier, msg_start, len(result))\n"
          ]
        }
      ]
    },
    {
      "cell_type": "code",
      "metadata": {
        "colab": {
          "base_uri": "https://localhost:8080/"
        },
        "id": "3O9Hca_F29Dx",
        "outputId": "a0ab3c1b-bb82-40e4-f927-3de3388cc7bc"
      },
      "source": [
        "something\n",
        "# test scores after tuning"
      ],
      "execution_count": null,
      "outputs": [
        {
          "output_type": "execute_result",
          "data": {
            "text/plain": [
              "[[0.8449131513647643],\n",
              " [0.6240694789081885],\n",
              " [0.8535980148883374],\n",
              " [0.8535980148883374],\n",
              " [0.7816377171215881],\n",
              " [0.8349875930521092],\n",
              " [0.8498759305210918],\n",
              " [0.8548387096774194]]"
            ]
          },
          "metadata": {},
          "execution_count": 75
        }
      ]
    },
    {
      "cell_type": "markdown",
      "metadata": {
        "id": "jNr85A7ZkO6D"
      },
      "source": [
        "##### testing f1-scores before hyperparameter tuning "
      ]
    },
    {
      "cell_type": "code",
      "metadata": {
        "colab": {
          "base_uri": "https://localhost:8080/"
        },
        "id": "ynjQTLm8JwWo",
        "outputId": "deff9149-f9a7-4d2b-84b6-35343abc81e5"
      },
      "source": [
        "f1_test_bef = []\n",
        "for i in range(len(y_test_pred_bef)): \n",
        "  f1_test_bef.append(classification_metrics(y_test,y_test_pred_bef[i],ret=['f1_score'])[0])\n"
      ],
      "execution_count": null,
      "outputs": [
        {
          "output_type": "stream",
          "name": "stderr",
          "text": [
            "/usr/local/lib/python3.7/dist-packages/sklearn/metrics/_ranking.py:546: FutureWarning: Arrays of bytes/strings is being converted to decimal numbers if dtype='numeric'. This behavior is deprecated in 0.24 and will be removed in 1.1 (renaming of 0.26). Please convert your data to numeric values explicitly instead.\n",
            "  y_score = check_array(y_score, ensure_2d=False)\n",
            "/usr/local/lib/python3.7/dist-packages/sklearn/metrics/_classification.py:1308: UndefinedMetricWarning: Precision and F-score are ill-defined and being set to 0.0 in labels with no predicted samples. Use `zero_division` parameter to control this behavior.\n",
            "  _warn_prf(average, modifier, msg_start, len(result))\n",
            "/usr/local/lib/python3.7/dist-packages/sklearn/metrics/_classification.py:1308: UndefinedMetricWarning: Precision and F-score are ill-defined and being set to 0.0 in labels with no predicted samples. Use `zero_division` parameter to control this behavior.\n",
            "  _warn_prf(average, modifier, msg_start, len(result))\n",
            "/usr/local/lib/python3.7/dist-packages/sklearn/metrics/_classification.py:1308: UndefinedMetricWarning: Precision and F-score are ill-defined and being set to 0.0 in labels with no predicted samples. Use `zero_division` parameter to control this behavior.\n",
            "  _warn_prf(average, modifier, msg_start, len(result))\n"
          ]
        }
      ]
    },
    {
      "cell_type": "code",
      "metadata": {
        "colab": {
          "base_uri": "https://localhost:8080/"
        },
        "id": "abQPWCiEt85K",
        "outputId": "fe97f6f0-0166-41ff-ad9a-26e21f5fa55a"
      },
      "source": [
        "f1_test_bef"
      ],
      "execution_count": null,
      "outputs": [
        {
          "output_type": "execute_result",
          "data": {
            "text/plain": [
              "[array([0.24      , 0.36363636, 0.91862069, 0.13333333]),\n",
              " array([0.34666667, 0.36363636, 0.73480176, 0.2310231 ]),\n",
              " array([0.18518519, 0.16      , 0.85059172, 0.02469136]),\n",
              " array([0.05      , 0.03846154, 0.85631769, 0.        ]),\n",
              " array([0.26315789, 0.32432432, 0.6493756 , 0.23529412]),\n",
              " array([0.13043478, 0.07407407, 0.86251809, 0.02631579]),\n",
              " array([0.4       , 0.36111111, 0.91947694, 0.        ]),\n",
              " array([0.12765957, 0.09009009, 0.85756026, 0.07058824])]"
            ]
          },
          "metadata": {},
          "execution_count": 142
        }
      ]
    },
    {
      "cell_type": "markdown",
      "metadata": {
        "id": "-HnoVVY7kHcz"
      },
      "source": [
        "##### testing f1-scores after hyperparameter tuning "
      ]
    },
    {
      "cell_type": "code",
      "metadata": {
        "id": "zisq0lFjQ82N",
        "colab": {
          "base_uri": "https://localhost:8080/"
        },
        "outputId": "d1efdec8-972b-4930-89ec-3d4ac56d38e8"
      },
      "source": [
        "f1_test_af = []\n",
        "for i in range(len(y_test_pred_af)): \n",
        "  f1_test_af.append(classification_metrics(y_test,y_test_pred_af[i],ret=['f1_score'])[0])\n"
      ],
      "execution_count": null,
      "outputs": [
        {
          "output_type": "stream",
          "name": "stderr",
          "text": [
            "/usr/local/lib/python3.7/dist-packages/sklearn/metrics/_ranking.py:546: FutureWarning: Arrays of bytes/strings is being converted to decimal numbers if dtype='numeric'. This behavior is deprecated in 0.24 and will be removed in 1.1 (renaming of 0.26). Please convert your data to numeric values explicitly instead.\n",
            "  y_score = check_array(y_score, ensure_2d=False)\n",
            "/usr/local/lib/python3.7/dist-packages/sklearn/metrics/_classification.py:1308: UndefinedMetricWarning: Precision and F-score are ill-defined and being set to 0.0 in labels with no predicted samples. Use `zero_division` parameter to control this behavior.\n",
            "  _warn_prf(average, modifier, msg_start, len(result))\n",
            "/usr/local/lib/python3.7/dist-packages/sklearn/metrics/_classification.py:1308: UndefinedMetricWarning: Precision and F-score are ill-defined and being set to 0.0 in labels with no predicted samples. Use `zero_division` parameter to control this behavior.\n",
            "  _warn_prf(average, modifier, msg_start, len(result))\n",
            "/usr/local/lib/python3.7/dist-packages/sklearn/metrics/_classification.py:1308: UndefinedMetricWarning: Precision and F-score are ill-defined and being set to 0.0 in labels with no predicted samples. Use `zero_division` parameter to control this behavior.\n",
            "  _warn_prf(average, modifier, msg_start, len(result))\n",
            "/usr/local/lib/python3.7/dist-packages/sklearn/metrics/_classification.py:1308: UndefinedMetricWarning: Precision and F-score are ill-defined and being set to 0.0 in labels with no predicted samples. Use `zero_division` parameter to control this behavior.\n",
            "  _warn_prf(average, modifier, msg_start, len(result))\n",
            "/usr/local/lib/python3.7/dist-packages/sklearn/metrics/_classification.py:1308: UndefinedMetricWarning: Precision and F-score are ill-defined and being set to 0.0 in labels with no predicted samples. Use `zero_division` parameter to control this behavior.\n",
            "  _warn_prf(average, modifier, msg_start, len(result))\n",
            "/usr/local/lib/python3.7/dist-packages/sklearn/metrics/_classification.py:1308: UndefinedMetricWarning: Precision and F-score are ill-defined and being set to 0.0 in labels with no predicted samples. Use `zero_division` parameter to control this behavior.\n",
            "  _warn_prf(average, modifier, msg_start, len(result))\n",
            "/usr/local/lib/python3.7/dist-packages/sklearn/metrics/_classification.py:1308: UndefinedMetricWarning: Precision and F-score are ill-defined and being set to 0.0 in labels with no predicted samples. Use `zero_division` parameter to control this behavior.\n",
            "  _warn_prf(average, modifier, msg_start, len(result))\n",
            "/usr/local/lib/python3.7/dist-packages/sklearn/metrics/_classification.py:1308: UndefinedMetricWarning: Precision and F-score are ill-defined and being set to 0.0 in labels with no predicted samples. Use `zero_division` parameter to control this behavior.\n",
            "  _warn_prf(average, modifier, msg_start, len(result))\n",
            "/usr/local/lib/python3.7/dist-packages/sklearn/metrics/_classification.py:1308: UndefinedMetricWarning: Precision and F-score are ill-defined and being set to 0.0 in labels with no predicted samples. Use `zero_division` parameter to control this behavior.\n",
            "  _warn_prf(average, modifier, msg_start, len(result))\n",
            "/usr/local/lib/python3.7/dist-packages/sklearn/metrics/_classification.py:1308: UndefinedMetricWarning: Precision and F-score are ill-defined and being set to 0.0 in labels with no predicted samples. Use `zero_division` parameter to control this behavior.\n",
            "  _warn_prf(average, modifier, msg_start, len(result))\n",
            "/usr/local/lib/python3.7/dist-packages/sklearn/metrics/_classification.py:1308: UndefinedMetricWarning: Precision and F-score are ill-defined and being set to 0.0 in labels with no predicted samples. Use `zero_division` parameter to control this behavior.\n",
            "  _warn_prf(average, modifier, msg_start, len(result))\n",
            "/usr/local/lib/python3.7/dist-packages/sklearn/metrics/_classification.py:1308: UndefinedMetricWarning: Precision and F-score are ill-defined and being set to 0.0 in labels with no predicted samples. Use `zero_division` parameter to control this behavior.\n",
            "  _warn_prf(average, modifier, msg_start, len(result))\n"
          ]
        }
      ]
    },
    {
      "cell_type": "code",
      "metadata": {
        "colab": {
          "base_uri": "https://localhost:8080/"
        },
        "id": "DQsDiApCRWki",
        "outputId": "b75b2b9d-2055-46ed-b858-1141438396f8"
      },
      "source": [
        "f1_test_af"
      ],
      "execution_count": null,
      "outputs": [
        {
          "output_type": "execute_result",
          "data": {
            "text/plain": [
              "[array([0.24      , 0.36363636, 0.91862069, 0.13333333]),\n",
              " array([0.34666667, 0.36363636, 0.73480176, 0.2310231 ]),\n",
              " array([0.        , 0.        , 0.92461641, 0.        ]),\n",
              " array([0.        , 0.30136986, 0.91983696, 0.        ]),\n",
              " array([0.32835821, 0.42767296, 0.86124402, 0.40909091]),\n",
              " array([0.15384615, 0.2745098 , 0.90692792, 0.03636364]),\n",
              " array([0.        , 0.        , 0.92317969, 0.        ]),\n",
              " array([0.        , 0.        , 0.92317969, 0.        ])]"
            ]
          },
          "metadata": {},
          "execution_count": 144
        }
      ]
    },
    {
      "cell_type": "markdown",
      "metadata": {
        "id": "H966B0FIkbUN"
      },
      "source": [
        "##### stratified k-fold for k=10\n"
      ]
    },
    {
      "cell_type": "code",
      "metadata": {
        "colab": {
          "base_uri": "https://localhost:8080/"
        },
        "id": "_N895iWFmeEt",
        "outputId": "0d174cda-3114-47df-90a9-5ea7f7b6b168"
      },
      "source": [
        "from sklearn.model_selection import StratifiedKFold\n",
        "\n",
        "kX = np.array(X)\n",
        "ky = np.array(y)\n",
        "\n",
        "fin_acc=[]\n",
        "\n",
        "for lr in model_af:\n",
        "  skf = StratifiedKFold(n_splits=10, shuffle=True, random_state=1)\n",
        "  lst_accu_stratified = []\n",
        "  for train_index, test_index in skf.split(kX, ky):\n",
        "      x_train_fold, x_test_fold = kX[train_index], kX[test_index]\n",
        "      y_train_fold, y_test_fold = ky[train_index], ky[test_index]\n",
        "      lr.fit(x_train_fold, y_train_fold)\n",
        "      lst_accu_stratified.append(lr.score(x_test_fold, y_test_fold))\n",
        "  fin_acc.append(np.mean(lst_accu_stratified))"
      ],
      "execution_count": null,
      "outputs": [
        {
          "output_type": "stream",
          "name": "stderr",
          "text": [
            "/usr/local/lib/python3.7/dist-packages/sklearn/linear_model/_logistic.py:818: ConvergenceWarning: lbfgs failed to converge (status=1):\n",
            "STOP: TOTAL NO. of ITERATIONS REACHED LIMIT.\n",
            "\n",
            "Increase the number of iterations (max_iter) or scale the data as shown in:\n",
            "    https://scikit-learn.org/stable/modules/preprocessing.html\n",
            "Please also refer to the documentation for alternative solver options:\n",
            "    https://scikit-learn.org/stable/modules/linear_model.html#logistic-regression\n",
            "  extra_warning_msg=_LOGISTIC_SOLVER_CONVERGENCE_MSG,\n"
          ]
        }
      ]
    },
    {
      "cell_type": "code",
      "metadata": {
        "colab": {
          "base_uri": "https://localhost:8080/"
        },
        "id": "DsEuq1IwoDPz",
        "outputId": "cadd7e16-92fb-41a8-aaee-b3762c4acd94"
      },
      "source": [
        "fin_acc\n",
        "# max = 0.8547035747937619"
      ],
      "execution_count": null,
      "outputs": [
        {
          "output_type": "execute_result",
          "data": {
            "text/plain": [
              "[0.8516037536295983,\n",
              " 0.5631675095667559,\n",
              " 0.8547035747937619,\n",
              " 0.8543930157875506,\n",
              " 0.7655933311539719,\n",
              " 0.8404245908889874,\n",
              " 0.8537718977751283,\n",
              " 0.8531527027286888]"
            ]
          },
          "metadata": {},
          "execution_count": 148
        }
      ]
    },
    {
      "cell_type": "markdown",
      "metadata": {
        "id": "uFTbwcldkSmi"
      },
      "source": [
        "##### Best Model "
      ]
    },
    {
      "cell_type": "code",
      "metadata": {
        "colab": {
          "base_uri": "https://localhost:8080/"
        },
        "id": "l5IGmEs43D1i",
        "outputId": "ae820680-5298-4b93-b917-150a922b5f24"
      },
      "source": [
        "model_af[something.index(max(something))]\n",
        "# model with best accuracy "
      ],
      "execution_count": null,
      "outputs": [
        {
          "output_type": "execute_result",
          "data": {
            "text/plain": [
              "DecisionTreeClassifier(max_features='auto', max_leaf_nodes=2, random_state=1)"
            ]
          },
          "metadata": {},
          "execution_count": 139
        }
      ]
    },
    {
      "cell_type": "code",
      "metadata": {
        "colab": {
          "base_uri": "https://localhost:8080/"
        },
        "id": "GRn0srhLFyYT",
        "outputId": "fb94ac84-483d-4f09-c8f0-37028dfb3abd"
      },
      "source": [
        "max(something)[0]*100\n",
        "# best accuracy"
      ],
      "execution_count": null,
      "outputs": [
        {
          "output_type": "execute_result",
          "data": {
            "text/plain": [
              "85.98014888337468"
            ]
          },
          "metadata": {},
          "execution_count": 140
        }
      ]
    }
  ]
}